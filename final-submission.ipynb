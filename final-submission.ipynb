{
 "cells": [
  {
   "cell_type": "code",
   "execution_count": 1,
   "id": "de4f5bfc",
   "metadata": {
    "_cell_guid": "b1076dfc-b9ad-4769-8c92-a6c4dae69d19",
    "_uuid": "8f2839f25d086af736a60e9eeb907d3b93b6e0e5",
    "execution": {
     "iopub.execute_input": "2023-01-13T21:52:31.397444Z",
     "iopub.status.busy": "2023-01-13T21:52:31.396881Z",
     "iopub.status.idle": "2023-01-13T21:52:31.413527Z",
     "shell.execute_reply": "2023-01-13T21:52:31.411731Z"
    },
    "papermill": {
     "duration": 0.036864,
     "end_time": "2023-01-13T21:52:31.417919",
     "exception": false,
     "start_time": "2023-01-13T21:52:31.381055",
     "status": "completed"
    },
    "tags": []
   },
   "outputs": [
    {
     "name": "stdout",
     "output_type": "stream",
     "text": [
      "/kaggle/input/marketing-strategy-personalised-offer/sample.csv\n",
      "/kaggle/input/marketing-strategy-personalised-offer/train_data.csv\n",
      "/kaggle/input/marketing-strategy-personalised-offer/test_data.csv\n"
     ]
    }
   ],
   "source": [
    "# This Python 3 environment comes with many helpful analytics libraries installed\n",
    "# It is defined by the kaggle/python Docker image: https://github.com/kaggle/docker-python\n",
    "# For example, here's several helpful packages to load\n",
    "\n",
    "import numpy as np # linear algebra\n",
    "import pandas as pd # data processing, CSV file I/O (e.g. pd.read_csv)\n",
    "\n",
    "# Input data files are available in the read-only \"../input/\" directory\n",
    "# For example, running this (by clicking run or pressing Shift+Enter) will list all files under the input directory\n",
    "\n",
    "import os\n",
    "for dirname, _, filenames in os.walk('/kaggle/input'):\n",
    "    for filename in filenames:\n",
    "        print(os.path.join(dirname, filename))\n",
    "\n",
    "# You can write up to 20GB to the current directory (/kaggle/working/) that gets preserved as output when you create a version using \"Save & Run All\" \n",
    "# You can also write temporary files to /kaggle/temp/, but they won't be saved outside of the current session"
   ]
  },
  {
   "cell_type": "code",
   "execution_count": 2,
   "id": "5cb72fb3",
   "metadata": {
    "execution": {
     "iopub.execute_input": "2023-01-13T21:52:31.445786Z",
     "iopub.status.busy": "2023-01-13T21:52:31.445305Z",
     "iopub.status.idle": "2023-01-13T21:52:31.451342Z",
     "shell.execute_reply": "2023-01-13T21:52:31.449834Z"
    },
    "papermill": {
     "duration": 0.023077,
     "end_time": "2023-01-13T21:52:31.454120",
     "exception": false,
     "start_time": "2023-01-13T21:52:31.431043",
     "status": "completed"
    },
    "tags": []
   },
   "outputs": [],
   "source": [
    "# train_data=pd.read_csv('../input/marketing-strategy-personalised-offer/train_data.csv')\n",
    "# test_data=pd.read_csv('/kaggle/input/marketing-strategy-personalised-offer/test_data.csv')\n",
    "# prediction=test_data\n",
    "# # Select only required coulums\n",
    "# submission=pd.DataFrame(columns=['id','Offer Accepted'])\n",
    "\n",
    "# submission['id']=[i for i in range(len(prediction))]\n",
    "\n",
    "# # Mark all as Yes , just for submission\n",
    "# submission['Offer Accepted']=['Yes' for i in range(len(prediction))]\n",
    "\n",
    "# # Export it as an csv\n",
    "# submission.to_csv('submission.csv',index=False)"
   ]
  },
  {
   "cell_type": "code",
   "execution_count": 3,
   "id": "e858dce4",
   "metadata": {
    "execution": {
     "iopub.execute_input": "2023-01-13T21:52:31.484531Z",
     "iopub.status.busy": "2023-01-13T21:52:31.484087Z",
     "iopub.status.idle": "2023-01-13T21:52:31.671076Z",
     "shell.execute_reply": "2023-01-13T21:52:31.669562Z"
    },
    "papermill": {
     "duration": 0.206701,
     "end_time": "2023-01-13T21:52:31.674304",
     "exception": false,
     "start_time": "2023-01-13T21:52:31.467603",
     "status": "completed"
    },
    "tags": []
   },
   "outputs": [],
   "source": [
    "train_data=pd.read_csv('/kaggle/input/marketing-strategy-personalised-offer/train_data.csv')\n",
    "testdata=pd.read_csv('../input/marketing-strategy-personalised-offer/test_data.csv')"
   ]
  },
  {
   "cell_type": "code",
   "execution_count": 4,
   "id": "a71c9f0f",
   "metadata": {
    "execution": {
     "iopub.execute_input": "2023-01-13T21:52:31.702816Z",
     "iopub.status.busy": "2023-01-13T21:52:31.701086Z",
     "iopub.status.idle": "2023-01-13T21:52:31.746296Z",
     "shell.execute_reply": "2023-01-13T21:52:31.744331Z"
    },
    "papermill": {
     "duration": 0.062707,
     "end_time": "2023-01-13T21:52:31.749697",
     "exception": false,
     "start_time": "2023-01-13T21:52:31.686990",
     "status": "completed"
    },
    "tags": []
   },
   "outputs": [
    {
     "name": "stdout",
     "output_type": "stream",
     "text": [
      "<class 'pandas.core.frame.DataFrame'>\n",
      "RangeIndex: 12379 entries, 0 to 12378\n",
      "Data columns (total 31 columns):\n",
      " #   Column                                Non-Null Count  Dtype \n",
      "---  ------                                --------------  ----- \n",
      " 0   offer expiration                      12379 non-null  object\n",
      " 1   income_range                          12379 non-null  object\n",
      " 2   no_visited_Cold drinks                12181 non-null  object\n",
      " 3   travelled_more_than_15mins_for_offer  12379 non-null  int64 \n",
      " 4   Restaur_spend_less_than20             12258 non-null  object\n",
      " 5   Marital Status                        12379 non-null  object\n",
      " 6   restaurant type                       12379 non-null  object\n",
      " 7   age                                   12379 non-null  object\n",
      " 8   Prefer western over chinese           12379 non-null  int64 \n",
      " 9   travelled_more_than_25mins_for_offer  12379 non-null  int64 \n",
      " 10  travelled_more_than_5mins_for_offer   12379 non-null  int64 \n",
      " 11  no_visited_bars                       12286 non-null  object\n",
      " 12  gender                                12379 non-null  object\n",
      " 13  car                                   111 non-null    object\n",
      " 14  restuarant_same_direction_house       12379 non-null  int64 \n",
      " 15  Cooks regularly                       12379 non-null  int64 \n",
      " 16  Customer type                         12379 non-null  object\n",
      " 17  Qualification                         12379 non-null  object\n",
      " 18  is foodie                             12379 non-null  int64 \n",
      " 19  no_Take-aways                         12235 non-null  object\n",
      " 20  Job/Job Industry                      12379 non-null  object\n",
      " 21  restuarant_opposite_direction_house   12379 non-null  int64 \n",
      " 22  has Children                          12379 non-null  int64 \n",
      " 23  visit restaurant with rating (avg)    12379 non-null  int64 \n",
      " 24  temperature                           12379 non-null  int64 \n",
      " 25  Restaur_spend_greater_than20          12219 non-null  object\n",
      " 26  Travel Time                           12379 non-null  int64 \n",
      " 27  Climate                               12379 non-null  object\n",
      " 28  drop location                         12379 non-null  object\n",
      " 29  Prefer home food                      12379 non-null  int64 \n",
      " 30  Offer Accepted                        12379 non-null  object\n",
      "dtypes: int64(13), object(18)\n",
      "memory usage: 2.9+ MB\n"
     ]
    }
   ],
   "source": [
    "\n",
    "train_data.info()"
   ]
  },
  {
   "cell_type": "code",
   "execution_count": 5,
   "id": "dd12ded0",
   "metadata": {
    "execution": {
     "iopub.execute_input": "2023-01-13T21:52:31.777513Z",
     "iopub.status.busy": "2023-01-13T21:52:31.776383Z",
     "iopub.status.idle": "2023-01-13T21:52:31.798524Z",
     "shell.execute_reply": "2023-01-13T21:52:31.797145Z"
    },
    "papermill": {
     "duration": 0.03941,
     "end_time": "2023-01-13T21:52:31.801708",
     "exception": false,
     "start_time": "2023-01-13T21:52:31.762298",
     "status": "completed"
    },
    "tags": []
   },
   "outputs": [
    {
     "name": "stdout",
     "output_type": "stream",
     "text": [
      "<class 'pandas.core.frame.DataFrame'>\n",
      "RangeIndex: 5305 entries, 0 to 5304\n",
      "Data columns (total 30 columns):\n",
      " #   Column                                Non-Null Count  Dtype \n",
      "---  ------                                --------------  ----- \n",
      " 0   offer expiration                      5305 non-null   object\n",
      " 1   income_range                          5305 non-null   object\n",
      " 2   no_visited_Cold drinks                5215 non-null   object\n",
      " 3   travelled_more_than_15mins_for_offer  5305 non-null   int64 \n",
      " 4   Restaur_spend_less_than20             5244 non-null   object\n",
      " 5   Marital Status                        5305 non-null   object\n",
      " 6   restaurant type                       5305 non-null   object\n",
      " 7   age                                   5305 non-null   object\n",
      " 8   Prefer western over chinese           5305 non-null   int64 \n",
      " 9   travelled_more_than_25mins_for_offer  5305 non-null   int64 \n",
      " 10  travelled_more_than_5mins_for_offer   5305 non-null   int64 \n",
      " 11  no_visited_bars                       5255 non-null   object\n",
      " 12  gender                                5305 non-null   object\n",
      " 13  car                                   43 non-null     object\n",
      " 14  restuarant_same_direction_house       5305 non-null   int64 \n",
      " 15  Cooks regularly                       5305 non-null   int64 \n",
      " 16  Customer type                         5305 non-null   object\n",
      " 17  Qualification                         5305 non-null   object\n",
      " 18  is foodie                             5305 non-null   int64 \n",
      " 19  no_Take-aways                         5245 non-null   object\n",
      " 20  Job/Job Industry                      5305 non-null   object\n",
      " 21  restuarant_opposite_direction_house   5305 non-null   int64 \n",
      " 22  has Children                          5305 non-null   int64 \n",
      " 23  visit restaurant with rating (avg)    5305 non-null   int64 \n",
      " 24  temperature                           5305 non-null   int64 \n",
      " 25  Restaur_spend_greater_than20          5201 non-null   object\n",
      " 26  Travel Time                           5305 non-null   int64 \n",
      " 27  Climate                               5305 non-null   object\n",
      " 28  drop location                         5305 non-null   object\n",
      " 29  Prefer home food                      5305 non-null   int64 \n",
      "dtypes: int64(13), object(17)\n",
      "memory usage: 1.2+ MB\n"
     ]
    }
   ],
   "source": [
    "testdata.info()"
   ]
  },
  {
   "cell_type": "code",
   "execution_count": 6,
   "id": "e60b191c",
   "metadata": {
    "execution": {
     "iopub.execute_input": "2023-01-13T21:52:31.830893Z",
     "iopub.status.busy": "2023-01-13T21:52:31.829782Z",
     "iopub.status.idle": "2023-01-13T21:52:31.840327Z",
     "shell.execute_reply": "2023-01-13T21:52:31.838672Z"
    },
    "papermill": {
     "duration": 0.028391,
     "end_time": "2023-01-13T21:52:31.842973",
     "exception": false,
     "start_time": "2023-01-13T21:52:31.814582",
     "status": "completed"
    },
    "tags": []
   },
   "outputs": [
    {
     "data": {
      "text/plain": [
       "Index(['offer expiration', 'income_range', 'no_visited_Cold drinks',\n",
       "       'travelled_more_than_15mins_for_offer', 'Restaur_spend_less_than20',\n",
       "       'Marital Status', 'restaurant type', 'age',\n",
       "       'Prefer western over chinese', 'travelled_more_than_25mins_for_offer',\n",
       "       'travelled_more_than_5mins_for_offer', 'no_visited_bars', 'gender',\n",
       "       'car', 'restuarant_same_direction_house', 'Cooks regularly',\n",
       "       'Customer type', 'Qualification', 'is foodie', 'no_Take-aways',\n",
       "       'Job/Job Industry', 'restuarant_opposite_direction_house',\n",
       "       'has Children', 'visit restaurant with rating (avg)', 'temperature',\n",
       "       'Restaur_spend_greater_than20', 'Travel Time', 'Climate',\n",
       "       'drop location', 'Prefer home food', 'Offer Accepted'],\n",
       "      dtype='object')"
      ]
     },
     "execution_count": 6,
     "metadata": {},
     "output_type": "execute_result"
    }
   ],
   "source": [
    "train_data.columns"
   ]
  },
  {
   "cell_type": "code",
   "execution_count": 7,
   "id": "4b9a8c10",
   "metadata": {
    "execution": {
     "iopub.execute_input": "2023-01-13T21:52:31.872195Z",
     "iopub.status.busy": "2023-01-13T21:52:31.871493Z",
     "iopub.status.idle": "2023-01-13T21:52:31.879846Z",
     "shell.execute_reply": "2023-01-13T21:52:31.878532Z"
    },
    "papermill": {
     "duration": 0.026175,
     "end_time": "2023-01-13T21:52:31.882564",
     "exception": false,
     "start_time": "2023-01-13T21:52:31.856389",
     "status": "completed"
    },
    "tags": []
   },
   "outputs": [
    {
     "data": {
      "text/plain": [
       "Index(['offer expiration', 'income_range', 'no_visited_Cold drinks',\n",
       "       'travelled_more_than_15mins_for_offer', 'Restaur_spend_less_than20',\n",
       "       'Marital Status', 'restaurant type', 'age',\n",
       "       'Prefer western over chinese', 'travelled_more_than_25mins_for_offer',\n",
       "       'travelled_more_than_5mins_for_offer', 'no_visited_bars', 'gender',\n",
       "       'car', 'restuarant_same_direction_house', 'Cooks regularly',\n",
       "       'Customer type', 'Qualification', 'is foodie', 'no_Take-aways',\n",
       "       'Job/Job Industry', 'restuarant_opposite_direction_house',\n",
       "       'has Children', 'visit restaurant with rating (avg)', 'temperature',\n",
       "       'Restaur_spend_greater_than20', 'Travel Time', 'Climate',\n",
       "       'drop location', 'Prefer home food'],\n",
       "      dtype='object')"
      ]
     },
     "execution_count": 7,
     "metadata": {},
     "output_type": "execute_result"
    }
   ],
   "source": [
    "testdata.columns"
   ]
  },
  {
   "cell_type": "code",
   "execution_count": 8,
   "id": "ff577966",
   "metadata": {
    "execution": {
     "iopub.execute_input": "2023-01-13T21:52:31.910433Z",
     "iopub.status.busy": "2023-01-13T21:52:31.909958Z",
     "iopub.status.idle": "2023-01-13T21:52:31.919360Z",
     "shell.execute_reply": "2023-01-13T21:52:31.918109Z"
    },
    "papermill": {
     "duration": 0.02653,
     "end_time": "2023-01-13T21:52:31.921925",
     "exception": false,
     "start_time": "2023-01-13T21:52:31.895395",
     "status": "completed"
    },
    "tags": []
   },
   "outputs": [
    {
     "data": {
      "text/plain": [
       "(12379, 31)"
      ]
     },
     "execution_count": 8,
     "metadata": {},
     "output_type": "execute_result"
    }
   ],
   "source": [
    "train_data['offer expiration'].unique()\n",
    "train_data.shape"
   ]
  },
  {
   "cell_type": "code",
   "execution_count": 9,
   "id": "a1a1d236",
   "metadata": {
    "execution": {
     "iopub.execute_input": "2023-01-13T21:52:31.950101Z",
     "iopub.status.busy": "2023-01-13T21:52:31.949531Z",
     "iopub.status.idle": "2023-01-13T21:52:31.957357Z",
     "shell.execute_reply": "2023-01-13T21:52:31.956112Z"
    },
    "papermill": {
     "duration": 0.025095,
     "end_time": "2023-01-13T21:52:31.959876",
     "exception": false,
     "start_time": "2023-01-13T21:52:31.934781",
     "status": "completed"
    },
    "tags": []
   },
   "outputs": [
    {
     "data": {
      "text/plain": [
       "(5305, 30)"
      ]
     },
     "execution_count": 9,
     "metadata": {},
     "output_type": "execute_result"
    }
   ],
   "source": [
    "testdata.shape"
   ]
  },
  {
   "cell_type": "code",
   "execution_count": 10,
   "id": "84d755b9",
   "metadata": {
    "execution": {
     "iopub.execute_input": "2023-01-13T21:52:31.988552Z",
     "iopub.status.busy": "2023-01-13T21:52:31.988084Z",
     "iopub.status.idle": "2023-01-13T21:52:32.032728Z",
     "shell.execute_reply": "2023-01-13T21:52:32.031494Z"
    },
    "papermill": {
     "duration": 0.062744,
     "end_time": "2023-01-13T21:52:32.035411",
     "exception": false,
     "start_time": "2023-01-13T21:52:31.972667",
     "status": "completed"
    },
    "tags": []
   },
   "outputs": [
    {
     "data": {
      "text/plain": [
       "array([48, 10])"
      ]
     },
     "execution_count": 10,
     "metadata": {},
     "output_type": "execute_result"
    }
   ],
   "source": [
    "train_data=train_data.replace(to_replace='2days',value=48)\n",
    "train_data=train_data.replace(to_replace='10hours',value=10)\n",
    "train_data['offer expiration'].unique()"
   ]
  },
  {
   "cell_type": "code",
   "execution_count": 11,
   "id": "66dca39d",
   "metadata": {
    "execution": {
     "iopub.execute_input": "2023-01-13T21:52:32.066093Z",
     "iopub.status.busy": "2023-01-13T21:52:32.065574Z",
     "iopub.status.idle": "2023-01-13T21:52:32.087561Z",
     "shell.execute_reply": "2023-01-13T21:52:32.086368Z"
    },
    "papermill": {
     "duration": 0.040687,
     "end_time": "2023-01-13T21:52:32.090451",
     "exception": false,
     "start_time": "2023-01-13T21:52:32.049764",
     "status": "completed"
    },
    "tags": []
   },
   "outputs": [
    {
     "data": {
      "text/plain": [
       "array([48, 10])"
      ]
     },
     "execution_count": 11,
     "metadata": {},
     "output_type": "execute_result"
    }
   ],
   "source": [
    "testdata=testdata.replace(to_replace='2days',value=48)\n",
    "testdata=testdata.replace(to_replace='10hours',value=10)\n",
    "testdata['offer expiration'].unique()"
   ]
  },
  {
   "cell_type": "code",
   "execution_count": 12,
   "id": "23ce63ca",
   "metadata": {
    "execution": {
     "iopub.execute_input": "2023-01-13T21:52:32.118976Z",
     "iopub.status.busy": "2023-01-13T21:52:32.118542Z",
     "iopub.status.idle": "2023-01-13T21:52:32.128206Z",
     "shell.execute_reply": "2023-01-13T21:52:32.126769Z"
    },
    "papermill": {
     "duration": 0.027566,
     "end_time": "2023-01-13T21:52:32.131346",
     "exception": false,
     "start_time": "2023-01-13T21:52:32.103780",
     "status": "completed"
    },
    "tags": []
   },
   "outputs": [
    {
     "data": {
      "text/plain": [
       "array(['₹100000 or More', '₹87500 - ₹99999', '₹37500 - ₹49999',\n",
       "       'Less than ₹12500', '₹50000 - ₹62499', '₹12500 - ₹24999',\n",
       "       '₹75000 - ₹87499', '₹25000 - ₹37499', '₹62500 - ₹74999'],\n",
       "      dtype=object)"
      ]
     },
     "execution_count": 12,
     "metadata": {},
     "output_type": "execute_result"
    }
   ],
   "source": [
    "train_data['income_range'].unique()"
   ]
  },
  {
   "cell_type": "code",
   "execution_count": 13,
   "id": "a4f6f3b9",
   "metadata": {
    "execution": {
     "iopub.execute_input": "2023-01-13T21:52:32.160198Z",
     "iopub.status.busy": "2023-01-13T21:52:32.159729Z",
     "iopub.status.idle": "2023-01-13T21:52:32.165620Z",
     "shell.execute_reply": "2023-01-13T21:52:32.164225Z"
    },
    "papermill": {
     "duration": 0.023646,
     "end_time": "2023-01-13T21:52:32.168500",
     "exception": false,
     "start_time": "2023-01-13T21:52:32.144854",
     "status": "completed"
    },
    "tags": []
   },
   "outputs": [],
   "source": [
    "# def transf1(data):\n",
    "#     return data.split(' - ')\n",
    "# train_data['income_range']=train_data['income_range'].apply(transf1)\n",
    "# train_data['income_range']=pd.DataFrame(train_data['income_range'])\n",
    "# def transf2(data):\n",
    "#     if data[0]!='₹100000 or More':\n",
    "#         for i in range(len(data)):\n",
    "#             data[i]=int(data[i].split('₹')[1])\n",
    "#         data=sum(data)\n",
    "#         return data/2\n",
    "#     else:\n",
    "#         data=100000\n",
    "#         return data\n",
    "    \n",
    "    \n",
    "    \n",
    "# train_data['income_range']=train_data['income_range'].apply(transf2)\n",
    "# train_data['income_range']=pd.DataFrame(train_data['income_range'])\n",
    "# train_data.head()"
   ]
  },
  {
   "cell_type": "code",
   "execution_count": 14,
   "id": "c3eec5de",
   "metadata": {
    "execution": {
     "iopub.execute_input": "2023-01-13T21:52:32.197440Z",
     "iopub.status.busy": "2023-01-13T21:52:32.196964Z",
     "iopub.status.idle": "2023-01-13T21:52:32.202023Z",
     "shell.execute_reply": "2023-01-13T21:52:32.201039Z"
    },
    "papermill": {
     "duration": 0.022997,
     "end_time": "2023-01-13T21:52:32.204623",
     "exception": false,
     "start_time": "2023-01-13T21:52:32.181626",
     "status": "completed"
    },
    "tags": []
   },
   "outputs": [],
   "source": [
    "# train_data['no_visited_Cold drinks'].unique()\n",
    "# train_data['no_visited_Cold drinks']=train_data['no_visited_Cold drinks'].replace(to_replace='4~8',value=6)\n",
    "# train_data['no_visited_Cold drinks']=train_data['no_visited_Cold drinks'].replace(to_replace='less1',value=1)\n",
    "# train_data['no_visited_Cold drinks']=train_data['no_visited_Cold drinks'].replace(to_replace='never',value=0)\n",
    "# train_data['no_visited_Cold drinks']=train_data['no_visited_Cold drinks'].replace(to_replace='1~3',value=2)\n",
    "# train_data['no_visited_Cold drinks']=train_data['no_visited_Cold drinks'].replace(to_replace='gt8',value=8)\n",
    "# train_data['no_visited_Cold drinks'].unique()"
   ]
  },
  {
   "cell_type": "code",
   "execution_count": 15,
   "id": "a632c449",
   "metadata": {
    "execution": {
     "iopub.execute_input": "2023-01-13T21:52:32.234516Z",
     "iopub.status.busy": "2023-01-13T21:52:32.233904Z",
     "iopub.status.idle": "2023-01-13T21:52:32.272013Z",
     "shell.execute_reply": "2023-01-13T21:52:32.270684Z"
    },
    "papermill": {
     "duration": 0.055957,
     "end_time": "2023-01-13T21:52:32.274623",
     "exception": false,
     "start_time": "2023-01-13T21:52:32.218666",
     "status": "completed"
    },
    "tags": []
   },
   "outputs": [
    {
     "data": {
      "text/html": [
       "<div>\n",
       "<style scoped>\n",
       "    .dataframe tbody tr th:only-of-type {\n",
       "        vertical-align: middle;\n",
       "    }\n",
       "\n",
       "    .dataframe tbody tr th {\n",
       "        vertical-align: top;\n",
       "    }\n",
       "\n",
       "    .dataframe thead th {\n",
       "        text-align: right;\n",
       "    }\n",
       "</style>\n",
       "<table border=\"1\" class=\"dataframe\">\n",
       "  <thead>\n",
       "    <tr style=\"text-align: right;\">\n",
       "      <th></th>\n",
       "      <th>offer expiration</th>\n",
       "      <th>income_range</th>\n",
       "      <th>no_visited_Cold drinks</th>\n",
       "      <th>travelled_more_than_15mins_for_offer</th>\n",
       "      <th>Restaur_spend_less_than20</th>\n",
       "      <th>Marital Status</th>\n",
       "      <th>restaurant type</th>\n",
       "      <th>age</th>\n",
       "      <th>Prefer western over chinese</th>\n",
       "      <th>travelled_more_than_25mins_for_offer</th>\n",
       "      <th>...</th>\n",
       "      <th>restuarant_opposite_direction_house</th>\n",
       "      <th>has Children</th>\n",
       "      <th>visit restaurant with rating (avg)</th>\n",
       "      <th>temperature</th>\n",
       "      <th>Restaur_spend_greater_than20</th>\n",
       "      <th>Travel Time</th>\n",
       "      <th>Climate</th>\n",
       "      <th>drop location</th>\n",
       "      <th>Prefer home food</th>\n",
       "      <th>Offer Accepted</th>\n",
       "    </tr>\n",
       "  </thead>\n",
       "  <tbody>\n",
       "    <tr>\n",
       "      <th>0</th>\n",
       "      <td>48</td>\n",
       "      <td>₹100000 or More</td>\n",
       "      <td>4~8</td>\n",
       "      <td>1</td>\n",
       "      <td>less1</td>\n",
       "      <td>Married partner</td>\n",
       "      <td>4 star restaurant</td>\n",
       "      <td>36</td>\n",
       "      <td>0</td>\n",
       "      <td>0</td>\n",
       "      <td>...</td>\n",
       "      <td>0</td>\n",
       "      <td>0</td>\n",
       "      <td>4</td>\n",
       "      <td>67</td>\n",
       "      <td>less1</td>\n",
       "      <td>22</td>\n",
       "      <td>Spring</td>\n",
       "      <td>Location B</td>\n",
       "      <td>0</td>\n",
       "      <td>No</td>\n",
       "    </tr>\n",
       "    <tr>\n",
       "      <th>1</th>\n",
       "      <td>48</td>\n",
       "      <td>₹87500 - ₹99999</td>\n",
       "      <td>4~8</td>\n",
       "      <td>0</td>\n",
       "      <td>4~8</td>\n",
       "      <td>Married partner</td>\n",
       "      <td>Take-away restaurant</td>\n",
       "      <td>50plus</td>\n",
       "      <td>0</td>\n",
       "      <td>0</td>\n",
       "      <td>...</td>\n",
       "      <td>0</td>\n",
       "      <td>1</td>\n",
       "      <td>3</td>\n",
       "      <td>89</td>\n",
       "      <td>1~3</td>\n",
       "      <td>18</td>\n",
       "      <td>Summer</td>\n",
       "      <td>Location B</td>\n",
       "      <td>0</td>\n",
       "      <td>Yes</td>\n",
       "    </tr>\n",
       "    <tr>\n",
       "      <th>2</th>\n",
       "      <td>48</td>\n",
       "      <td>₹87500 - ₹99999</td>\n",
       "      <td>less1</td>\n",
       "      <td>1</td>\n",
       "      <td>1~3</td>\n",
       "      <td>Single</td>\n",
       "      <td>Cold drinks</td>\n",
       "      <td>26</td>\n",
       "      <td>1</td>\n",
       "      <td>0</td>\n",
       "      <td>...</td>\n",
       "      <td>1</td>\n",
       "      <td>1</td>\n",
       "      <td>4</td>\n",
       "      <td>67</td>\n",
       "      <td>less1</td>\n",
       "      <td>7</td>\n",
       "      <td>Winter</td>\n",
       "      <td>Location A</td>\n",
       "      <td>1</td>\n",
       "      <td>Yes</td>\n",
       "    </tr>\n",
       "    <tr>\n",
       "      <th>3</th>\n",
       "      <td>10</td>\n",
       "      <td>₹37500 - ₹49999</td>\n",
       "      <td>less1</td>\n",
       "      <td>0</td>\n",
       "      <td>1~3</td>\n",
       "      <td>Single</td>\n",
       "      <td>Take-away restaurant</td>\n",
       "      <td>46</td>\n",
       "      <td>1</td>\n",
       "      <td>0</td>\n",
       "      <td>...</td>\n",
       "      <td>0</td>\n",
       "      <td>1</td>\n",
       "      <td>3</td>\n",
       "      <td>89</td>\n",
       "      <td>1~3</td>\n",
       "      <td>7</td>\n",
       "      <td>Summer</td>\n",
       "      <td>Location C</td>\n",
       "      <td>0</td>\n",
       "      <td>No</td>\n",
       "    </tr>\n",
       "    <tr>\n",
       "      <th>4</th>\n",
       "      <td>48</td>\n",
       "      <td>₹100000 or More</td>\n",
       "      <td>never</td>\n",
       "      <td>1</td>\n",
       "      <td>1~3</td>\n",
       "      <td>Single</td>\n",
       "      <td>4 star restaurant</td>\n",
       "      <td>21</td>\n",
       "      <td>0</td>\n",
       "      <td>1</td>\n",
       "      <td>...</td>\n",
       "      <td>1</td>\n",
       "      <td>0</td>\n",
       "      <td>3</td>\n",
       "      <td>40</td>\n",
       "      <td>less1</td>\n",
       "      <td>7</td>\n",
       "      <td>Summer</td>\n",
       "      <td>Location C</td>\n",
       "      <td>0</td>\n",
       "      <td>No</td>\n",
       "    </tr>\n",
       "  </tbody>\n",
       "</table>\n",
       "<p>5 rows × 31 columns</p>\n",
       "</div>"
      ],
      "text/plain": [
       "   offer expiration     income_range no_visited_Cold drinks  \\\n",
       "0                48  ₹100000 or More                    4~8   \n",
       "1                48  ₹87500 - ₹99999                    4~8   \n",
       "2                48  ₹87500 - ₹99999                  less1   \n",
       "3                10  ₹37500 - ₹49999                  less1   \n",
       "4                48  ₹100000 or More                  never   \n",
       "\n",
       "   travelled_more_than_15mins_for_offer Restaur_spend_less_than20  \\\n",
       "0                                     1                     less1   \n",
       "1                                     0                       4~8   \n",
       "2                                     1                       1~3   \n",
       "3                                     0                       1~3   \n",
       "4                                     1                       1~3   \n",
       "\n",
       "    Marital Status       restaurant type     age  Prefer western over chinese  \\\n",
       "0  Married partner     4 star restaurant      36                            0   \n",
       "1  Married partner  Take-away restaurant  50plus                            0   \n",
       "2           Single           Cold drinks      26                            1   \n",
       "3           Single  Take-away restaurant      46                            1   \n",
       "4           Single     4 star restaurant      21                            0   \n",
       "\n",
       "   travelled_more_than_25mins_for_offer  ...  \\\n",
       "0                                     0  ...   \n",
       "1                                     0  ...   \n",
       "2                                     0  ...   \n",
       "3                                     0  ...   \n",
       "4                                     1  ...   \n",
       "\n",
       "   restuarant_opposite_direction_house has Children  \\\n",
       "0                                    0            0   \n",
       "1                                    0            1   \n",
       "2                                    1            1   \n",
       "3                                    0            1   \n",
       "4                                    1            0   \n",
       "\n",
       "  visit restaurant with rating (avg) temperature  \\\n",
       "0                                  4          67   \n",
       "1                                  3          89   \n",
       "2                                  4          67   \n",
       "3                                  3          89   \n",
       "4                                  3          40   \n",
       "\n",
       "   Restaur_spend_greater_than20  Travel Time Climate drop location  \\\n",
       "0                         less1           22  Spring    Location B   \n",
       "1                           1~3           18  Summer    Location B   \n",
       "2                         less1            7  Winter    Location A   \n",
       "3                           1~3            7  Summer    Location C   \n",
       "4                         less1            7  Summer    Location C   \n",
       "\n",
       "   Prefer home food Offer Accepted  \n",
       "0                 0             No  \n",
       "1                 0            Yes  \n",
       "2                 1            Yes  \n",
       "3                 0             No  \n",
       "4                 0             No  \n",
       "\n",
       "[5 rows x 31 columns]"
      ]
     },
     "execution_count": 15,
     "metadata": {},
     "output_type": "execute_result"
    }
   ],
   "source": [
    "train_data.head()"
   ]
  },
  {
   "cell_type": "code",
   "execution_count": 16,
   "id": "504bfda1",
   "metadata": {
    "execution": {
     "iopub.execute_input": "2023-01-13T21:52:32.305301Z",
     "iopub.status.busy": "2023-01-13T21:52:32.304175Z",
     "iopub.status.idle": "2023-01-13T21:52:32.312185Z",
     "shell.execute_reply": "2023-01-13T21:52:32.311250Z"
    },
    "papermill": {
     "duration": 0.026163,
     "end_time": "2023-01-13T21:52:32.314590",
     "exception": false,
     "start_time": "2023-01-13T21:52:32.288427",
     "status": "completed"
    },
    "tags": []
   },
   "outputs": [
    {
     "data": {
      "text/plain": [
       "array(['4~8', 'less1', 'never', '1~3', 'gt8', nan], dtype=object)"
      ]
     },
     "execution_count": 16,
     "metadata": {},
     "output_type": "execute_result"
    }
   ],
   "source": [
    "train_data['no_visited_Cold drinks'].unique()"
   ]
  },
  {
   "cell_type": "code",
   "execution_count": 17,
   "id": "43c98796",
   "metadata": {
    "execution": {
     "iopub.execute_input": "2023-01-13T21:52:32.345481Z",
     "iopub.status.busy": "2023-01-13T21:52:32.344754Z",
     "iopub.status.idle": "2023-01-13T21:52:32.352343Z",
     "shell.execute_reply": "2023-01-13T21:52:32.351129Z"
    },
    "papermill": {
     "duration": 0.026761,
     "end_time": "2023-01-13T21:52:32.355470",
     "exception": false,
     "start_time": "2023-01-13T21:52:32.328709",
     "status": "completed"
    },
    "tags": []
   },
   "outputs": [
    {
     "data": {
      "text/plain": [
       "array([1, 0])"
      ]
     },
     "execution_count": 17,
     "metadata": {},
     "output_type": "execute_result"
    }
   ],
   "source": [
    "train_data['travelled_more_than_15mins_for_offer'].unique()"
   ]
  },
  {
   "cell_type": "code",
   "execution_count": 18,
   "id": "82971828",
   "metadata": {
    "execution": {
     "iopub.execute_input": "2023-01-13T21:52:32.387855Z",
     "iopub.status.busy": "2023-01-13T21:52:32.386909Z",
     "iopub.status.idle": "2023-01-13T21:52:32.412947Z",
     "shell.execute_reply": "2023-01-13T21:52:32.411438Z"
    },
    "papermill": {
     "duration": 0.045358,
     "end_time": "2023-01-13T21:52:32.415788",
     "exception": false,
     "start_time": "2023-01-13T21:52:32.370430",
     "status": "completed"
    },
    "tags": []
   },
   "outputs": [
    {
     "data": {
      "text/html": [
       "<div>\n",
       "<style scoped>\n",
       "    .dataframe tbody tr th:only-of-type {\n",
       "        vertical-align: middle;\n",
       "    }\n",
       "\n",
       "    .dataframe tbody tr th {\n",
       "        vertical-align: top;\n",
       "    }\n",
       "\n",
       "    .dataframe thead th {\n",
       "        text-align: right;\n",
       "    }\n",
       "</style>\n",
       "<table border=\"1\" class=\"dataframe\">\n",
       "  <thead>\n",
       "    <tr style=\"text-align: right;\">\n",
       "      <th></th>\n",
       "      <th>offer expiration</th>\n",
       "      <th>income_range</th>\n",
       "      <th>no_visited_Cold drinks</th>\n",
       "      <th>travelled_more_than_15mins_for_offer</th>\n",
       "      <th>Restaur_spend_less_than20</th>\n",
       "      <th>Marital Status</th>\n",
       "      <th>restaurant type</th>\n",
       "      <th>age</th>\n",
       "      <th>Prefer western over chinese</th>\n",
       "      <th>travelled_more_than_25mins_for_offer</th>\n",
       "      <th>...</th>\n",
       "      <th>restuarant_opposite_direction_house</th>\n",
       "      <th>has Children</th>\n",
       "      <th>visit restaurant with rating (avg)</th>\n",
       "      <th>temperature</th>\n",
       "      <th>Restaur_spend_greater_than20</th>\n",
       "      <th>Travel Time</th>\n",
       "      <th>Climate</th>\n",
       "      <th>drop location</th>\n",
       "      <th>Prefer home food</th>\n",
       "      <th>Offer Accepted</th>\n",
       "    </tr>\n",
       "  </thead>\n",
       "  <tbody>\n",
       "    <tr>\n",
       "      <th>0</th>\n",
       "      <td>48</td>\n",
       "      <td>₹100000 or More</td>\n",
       "      <td>4~8</td>\n",
       "      <td>1</td>\n",
       "      <td>less1</td>\n",
       "      <td>Married partner</td>\n",
       "      <td>4 star restaurant</td>\n",
       "      <td>36</td>\n",
       "      <td>0</td>\n",
       "      <td>0</td>\n",
       "      <td>...</td>\n",
       "      <td>0</td>\n",
       "      <td>0</td>\n",
       "      <td>4</td>\n",
       "      <td>67</td>\n",
       "      <td>less1</td>\n",
       "      <td>22</td>\n",
       "      <td>Spring</td>\n",
       "      <td>Location B</td>\n",
       "      <td>0</td>\n",
       "      <td>No</td>\n",
       "    </tr>\n",
       "    <tr>\n",
       "      <th>1</th>\n",
       "      <td>48</td>\n",
       "      <td>₹87500 - ₹99999</td>\n",
       "      <td>4~8</td>\n",
       "      <td>0</td>\n",
       "      <td>4~8</td>\n",
       "      <td>Married partner</td>\n",
       "      <td>Take-away restaurant</td>\n",
       "      <td>50plus</td>\n",
       "      <td>0</td>\n",
       "      <td>0</td>\n",
       "      <td>...</td>\n",
       "      <td>0</td>\n",
       "      <td>1</td>\n",
       "      <td>3</td>\n",
       "      <td>89</td>\n",
       "      <td>1~3</td>\n",
       "      <td>18</td>\n",
       "      <td>Summer</td>\n",
       "      <td>Location B</td>\n",
       "      <td>0</td>\n",
       "      <td>Yes</td>\n",
       "    </tr>\n",
       "    <tr>\n",
       "      <th>2</th>\n",
       "      <td>48</td>\n",
       "      <td>₹87500 - ₹99999</td>\n",
       "      <td>less1</td>\n",
       "      <td>1</td>\n",
       "      <td>1~3</td>\n",
       "      <td>Single</td>\n",
       "      <td>Cold drinks</td>\n",
       "      <td>26</td>\n",
       "      <td>1</td>\n",
       "      <td>0</td>\n",
       "      <td>...</td>\n",
       "      <td>1</td>\n",
       "      <td>1</td>\n",
       "      <td>4</td>\n",
       "      <td>67</td>\n",
       "      <td>less1</td>\n",
       "      <td>7</td>\n",
       "      <td>Winter</td>\n",
       "      <td>Location A</td>\n",
       "      <td>1</td>\n",
       "      <td>Yes</td>\n",
       "    </tr>\n",
       "    <tr>\n",
       "      <th>3</th>\n",
       "      <td>10</td>\n",
       "      <td>₹37500 - ₹49999</td>\n",
       "      <td>less1</td>\n",
       "      <td>0</td>\n",
       "      <td>1~3</td>\n",
       "      <td>Single</td>\n",
       "      <td>Take-away restaurant</td>\n",
       "      <td>46</td>\n",
       "      <td>1</td>\n",
       "      <td>0</td>\n",
       "      <td>...</td>\n",
       "      <td>0</td>\n",
       "      <td>1</td>\n",
       "      <td>3</td>\n",
       "      <td>89</td>\n",
       "      <td>1~3</td>\n",
       "      <td>7</td>\n",
       "      <td>Summer</td>\n",
       "      <td>Location C</td>\n",
       "      <td>0</td>\n",
       "      <td>No</td>\n",
       "    </tr>\n",
       "    <tr>\n",
       "      <th>4</th>\n",
       "      <td>48</td>\n",
       "      <td>₹100000 or More</td>\n",
       "      <td>never</td>\n",
       "      <td>1</td>\n",
       "      <td>1~3</td>\n",
       "      <td>Single</td>\n",
       "      <td>4 star restaurant</td>\n",
       "      <td>21</td>\n",
       "      <td>0</td>\n",
       "      <td>1</td>\n",
       "      <td>...</td>\n",
       "      <td>1</td>\n",
       "      <td>0</td>\n",
       "      <td>3</td>\n",
       "      <td>40</td>\n",
       "      <td>less1</td>\n",
       "      <td>7</td>\n",
       "      <td>Summer</td>\n",
       "      <td>Location C</td>\n",
       "      <td>0</td>\n",
       "      <td>No</td>\n",
       "    </tr>\n",
       "  </tbody>\n",
       "</table>\n",
       "<p>5 rows × 31 columns</p>\n",
       "</div>"
      ],
      "text/plain": [
       "   offer expiration     income_range no_visited_Cold drinks  \\\n",
       "0                48  ₹100000 or More                    4~8   \n",
       "1                48  ₹87500 - ₹99999                    4~8   \n",
       "2                48  ₹87500 - ₹99999                  less1   \n",
       "3                10  ₹37500 - ₹49999                  less1   \n",
       "4                48  ₹100000 or More                  never   \n",
       "\n",
       "   travelled_more_than_15mins_for_offer Restaur_spend_less_than20  \\\n",
       "0                                     1                     less1   \n",
       "1                                     0                       4~8   \n",
       "2                                     1                       1~3   \n",
       "3                                     0                       1~3   \n",
       "4                                     1                       1~3   \n",
       "\n",
       "    Marital Status       restaurant type     age  Prefer western over chinese  \\\n",
       "0  Married partner     4 star restaurant      36                            0   \n",
       "1  Married partner  Take-away restaurant  50plus                            0   \n",
       "2           Single           Cold drinks      26                            1   \n",
       "3           Single  Take-away restaurant      46                            1   \n",
       "4           Single     4 star restaurant      21                            0   \n",
       "\n",
       "   travelled_more_than_25mins_for_offer  ...  \\\n",
       "0                                     0  ...   \n",
       "1                                     0  ...   \n",
       "2                                     0  ...   \n",
       "3                                     0  ...   \n",
       "4                                     1  ...   \n",
       "\n",
       "   restuarant_opposite_direction_house has Children  \\\n",
       "0                                    0            0   \n",
       "1                                    0            1   \n",
       "2                                    1            1   \n",
       "3                                    0            1   \n",
       "4                                    1            0   \n",
       "\n",
       "  visit restaurant with rating (avg) temperature  \\\n",
       "0                                  4          67   \n",
       "1                                  3          89   \n",
       "2                                  4          67   \n",
       "3                                  3          89   \n",
       "4                                  3          40   \n",
       "\n",
       "   Restaur_spend_greater_than20  Travel Time Climate drop location  \\\n",
       "0                         less1           22  Spring    Location B   \n",
       "1                           1~3           18  Summer    Location B   \n",
       "2                         less1            7  Winter    Location A   \n",
       "3                           1~3            7  Summer    Location C   \n",
       "4                         less1            7  Summer    Location C   \n",
       "\n",
       "   Prefer home food Offer Accepted  \n",
       "0                 0             No  \n",
       "1                 0            Yes  \n",
       "2                 1            Yes  \n",
       "3                 0             No  \n",
       "4                 0             No  \n",
       "\n",
       "[5 rows x 31 columns]"
      ]
     },
     "execution_count": 18,
     "metadata": {},
     "output_type": "execute_result"
    }
   ],
   "source": [
    "train_data.head()"
   ]
  },
  {
   "cell_type": "code",
   "execution_count": 19,
   "id": "a9c572de",
   "metadata": {
    "execution": {
     "iopub.execute_input": "2023-01-13T21:52:32.446695Z",
     "iopub.status.busy": "2023-01-13T21:52:32.446251Z",
     "iopub.status.idle": "2023-01-13T21:52:32.451458Z",
     "shell.execute_reply": "2023-01-13T21:52:32.450150Z"
    },
    "papermill": {
     "duration": 0.023363,
     "end_time": "2023-01-13T21:52:32.453713",
     "exception": false,
     "start_time": "2023-01-13T21:52:32.430350",
     "status": "completed"
    },
    "tags": []
   },
   "outputs": [],
   "source": [
    "# train_data['Restaur_spend_less_than20'].unique()\n",
    "# train_data['Restaur_spend_less_than20']=train_data['Restaur_spend_less_than20'].replace(to_replace='4~8',value=6)\n",
    "# train_data['Restaur_spend_less_than20']=train_data['Restaur_spend_less_than20'].replace(to_replace='less1',value=1)\n",
    "# train_data['Restaur_spend_less_than20']=train_data['Restaur_spend_less_than20'].replace(to_replace='never',value=0)\n",
    "# train_data['Restaur_spend_less_than20']=train_data['Restaur_spend_less_than20'].replace(to_replace='1~3',value=2)\n",
    "# train_data['Restaur_spend_less_than20']=train_data['Restaur_spend_less_than20'].replace(to_replace='gt8',value=8)\n",
    "# train_data['Restaur_spend_less_than20'].unique()"
   ]
  },
  {
   "cell_type": "code",
   "execution_count": 20,
   "id": "549dec24",
   "metadata": {
    "execution": {
     "iopub.execute_input": "2023-01-13T21:52:32.484188Z",
     "iopub.status.busy": "2023-01-13T21:52:32.483769Z",
     "iopub.status.idle": "2023-01-13T21:52:32.492189Z",
     "shell.execute_reply": "2023-01-13T21:52:32.491145Z"
    },
    "papermill": {
     "duration": 0.026437,
     "end_time": "2023-01-13T21:52:32.494481",
     "exception": false,
     "start_time": "2023-01-13T21:52:32.468044",
     "status": "completed"
    },
    "tags": []
   },
   "outputs": [
    {
     "data": {
      "text/plain": [
       "array(['Married partner', 'Single', 'Divorced', 'Unmarried partner',\n",
       "       'Widowed'], dtype=object)"
      ]
     },
     "execution_count": 20,
     "metadata": {},
     "output_type": "execute_result"
    }
   ],
   "source": [
    "train_data['Marital Status'].unique()"
   ]
  },
  {
   "cell_type": "code",
   "execution_count": 21,
   "id": "0bd004e9",
   "metadata": {
    "execution": {
     "iopub.execute_input": "2023-01-13T21:52:32.527032Z",
     "iopub.status.busy": "2023-01-13T21:52:32.526335Z",
     "iopub.status.idle": "2023-01-13T21:52:32.533929Z",
     "shell.execute_reply": "2023-01-13T21:52:32.533069Z"
    },
    "papermill": {
     "duration": 0.026617,
     "end_time": "2023-01-13T21:52:32.536325",
     "exception": false,
     "start_time": "2023-01-13T21:52:32.509708",
     "status": "completed"
    },
    "tags": []
   },
   "outputs": [
    {
     "data": {
      "text/plain": [
       "array(['4 star restaurant', 'Take-away restaurant', 'Cold drinks',\n",
       "       'Restaurant with pub', '2 star restaurant'], dtype=object)"
      ]
     },
     "execution_count": 21,
     "metadata": {},
     "output_type": "execute_result"
    }
   ],
   "source": [
    "train_data['restaurant type'].unique()"
   ]
  },
  {
   "cell_type": "code",
   "execution_count": 22,
   "id": "aa1305a2",
   "metadata": {
    "execution": {
     "iopub.execute_input": "2023-01-13T21:52:32.567969Z",
     "iopub.status.busy": "2023-01-13T21:52:32.567263Z",
     "iopub.status.idle": "2023-01-13T21:52:32.571977Z",
     "shell.execute_reply": "2023-01-13T21:52:32.570747Z"
    },
    "papermill": {
     "duration": 0.023825,
     "end_time": "2023-01-13T21:52:32.574861",
     "exception": false,
     "start_time": "2023-01-13T21:52:32.551036",
     "status": "completed"
    },
    "tags": []
   },
   "outputs": [],
   "source": [
    "# train_data['age'].unique()\n",
    "# train_data['age']=train_data['age'].replace(to_replace='50plus',value=55)\n",
    "# train_data['age']=train_data['age'].replace(to_replace='below21',value=21)\n",
    "# train_data['age']=pd.to_numeric(train_data['age'])\n",
    "# train_data['age'].unique()"
   ]
  },
  {
   "cell_type": "code",
   "execution_count": 23,
   "id": "beac38b4",
   "metadata": {
    "execution": {
     "iopub.execute_input": "2023-01-13T21:52:32.606428Z",
     "iopub.status.busy": "2023-01-13T21:52:32.605885Z",
     "iopub.status.idle": "2023-01-13T21:52:32.614441Z",
     "shell.execute_reply": "2023-01-13T21:52:32.613333Z"
    },
    "papermill": {
     "duration": 0.027366,
     "end_time": "2023-01-13T21:52:32.616868",
     "exception": false,
     "start_time": "2023-01-13T21:52:32.589502",
     "status": "completed"
    },
    "tags": []
   },
   "outputs": [
    {
     "data": {
      "text/plain": [
       "array([0, 1])"
      ]
     },
     "execution_count": 23,
     "metadata": {},
     "output_type": "execute_result"
    }
   ],
   "source": [
    "train_data['Prefer western over chinese'].unique()"
   ]
  },
  {
   "cell_type": "code",
   "execution_count": 24,
   "id": "a75516b5",
   "metadata": {
    "execution": {
     "iopub.execute_input": "2023-01-13T21:52:32.648891Z",
     "iopub.status.busy": "2023-01-13T21:52:32.648048Z",
     "iopub.status.idle": "2023-01-13T21:52:32.655092Z",
     "shell.execute_reply": "2023-01-13T21:52:32.654022Z"
    },
    "papermill": {
     "duration": 0.025895,
     "end_time": "2023-01-13T21:52:32.657584",
     "exception": false,
     "start_time": "2023-01-13T21:52:32.631689",
     "status": "completed"
    },
    "tags": []
   },
   "outputs": [
    {
     "data": {
      "text/plain": [
       "array([0, 1])"
      ]
     },
     "execution_count": 24,
     "metadata": {},
     "output_type": "execute_result"
    }
   ],
   "source": [
    "train_data['travelled_more_than_25mins_for_offer'].unique()"
   ]
  },
  {
   "cell_type": "code",
   "execution_count": 25,
   "id": "fc05bde8",
   "metadata": {
    "execution": {
     "iopub.execute_input": "2023-01-13T21:52:32.690036Z",
     "iopub.status.busy": "2023-01-13T21:52:32.689272Z",
     "iopub.status.idle": "2023-01-13T21:52:32.697768Z",
     "shell.execute_reply": "2023-01-13T21:52:32.696573Z"
    },
    "papermill": {
     "duration": 0.026921,
     "end_time": "2023-01-13T21:52:32.699987",
     "exception": false,
     "start_time": "2023-01-13T21:52:32.673066",
     "status": "completed"
    },
    "tags": []
   },
   "outputs": [
    {
     "data": {
      "text/plain": [
       "array(['Unemployed', 'Arts Design Entertainment Sports & Media',\n",
       "       'Sales & Related', 'Student', 'Business & Financial',\n",
       "       'Computer & Mathematical', 'Office & Administrative Support',\n",
       "       'Management', 'Healthcare Support', 'Life Physical Social Science',\n",
       "       'Installation Maintenance & Repair', 'Legal',\n",
       "       'Community & Social Services', 'Education&Training&Library',\n",
       "       'Construction & Extraction',\n",
       "       'Healthcare Practitioners & Technical',\n",
       "       'Transportation & Material Moving', 'Retired',\n",
       "       'Architecture & Engineering', 'Production Occupations',\n",
       "       'Farming Fishing & Forestry', 'Protective Service',\n",
       "       'Personal Care & Service', 'Food Preparation & Serving Related',\n",
       "       'Building & Grounds Cleaning & Maintenance'], dtype=object)"
      ]
     },
     "execution_count": 25,
     "metadata": {},
     "output_type": "execute_result"
    }
   ],
   "source": [
    "train_data['Job/Job Industry'].unique()"
   ]
  },
  {
   "cell_type": "code",
   "execution_count": 26,
   "id": "41e13f64",
   "metadata": {
    "execution": {
     "iopub.execute_input": "2023-01-13T21:52:32.732427Z",
     "iopub.status.busy": "2023-01-13T21:52:32.731355Z",
     "iopub.status.idle": "2023-01-13T21:52:32.739331Z",
     "shell.execute_reply": "2023-01-13T21:52:32.738343Z"
    },
    "papermill": {
     "duration": 0.026679,
     "end_time": "2023-01-13T21:52:32.741634",
     "exception": false,
     "start_time": "2023-01-13T21:52:32.714955",
     "status": "completed"
    },
    "tags": []
   },
   "outputs": [
    {
     "data": {
      "text/plain": [
       "array([0, 1])"
      ]
     },
     "execution_count": 26,
     "metadata": {},
     "output_type": "execute_result"
    }
   ],
   "source": [
    "train_data['restuarant_opposite_direction_house'].unique()"
   ]
  },
  {
   "cell_type": "code",
   "execution_count": 27,
   "id": "6cd3fa48",
   "metadata": {
    "execution": {
     "iopub.execute_input": "2023-01-13T21:52:32.773914Z",
     "iopub.status.busy": "2023-01-13T21:52:32.772821Z",
     "iopub.status.idle": "2023-01-13T21:52:32.781569Z",
     "shell.execute_reply": "2023-01-13T21:52:32.780241Z"
    },
    "papermill": {
     "duration": 0.027758,
     "end_time": "2023-01-13T21:52:32.784388",
     "exception": false,
     "start_time": "2023-01-13T21:52:32.756630",
     "status": "completed"
    },
    "tags": []
   },
   "outputs": [
    {
     "data": {
      "text/plain": [
       "array([0, 1])"
      ]
     },
     "execution_count": 27,
     "metadata": {},
     "output_type": "execute_result"
    }
   ],
   "source": [
    "train_data['has Children'].unique()\n"
   ]
  },
  {
   "cell_type": "code",
   "execution_count": 28,
   "id": "6425836a",
   "metadata": {
    "execution": {
     "iopub.execute_input": "2023-01-13T21:52:32.816927Z",
     "iopub.status.busy": "2023-01-13T21:52:32.816470Z",
     "iopub.status.idle": "2023-01-13T21:52:32.825689Z",
     "shell.execute_reply": "2023-01-13T21:52:32.824460Z"
    },
    "papermill": {
     "duration": 0.028676,
     "end_time": "2023-01-13T21:52:32.828453",
     "exception": false,
     "start_time": "2023-01-13T21:52:32.799777",
     "status": "completed"
    },
    "tags": []
   },
   "outputs": [
    {
     "data": {
      "text/plain": [
       "array([4, 3, 0, 1, 2])"
      ]
     },
     "execution_count": 28,
     "metadata": {},
     "output_type": "execute_result"
    }
   ],
   "source": [
    "train_data['visit restaurant with rating (avg)'].unique()"
   ]
  },
  {
   "cell_type": "code",
   "execution_count": 29,
   "id": "ffae4cfd",
   "metadata": {
    "execution": {
     "iopub.execute_input": "2023-01-13T21:52:32.861800Z",
     "iopub.status.busy": "2023-01-13T21:52:32.860943Z",
     "iopub.status.idle": "2023-01-13T21:52:32.869462Z",
     "shell.execute_reply": "2023-01-13T21:52:32.868143Z"
    },
    "papermill": {
     "duration": 0.028034,
     "end_time": "2023-01-13T21:52:32.871931",
     "exception": false,
     "start_time": "2023-01-13T21:52:32.843897",
     "status": "completed"
    },
    "tags": []
   },
   "outputs": [
    {
     "data": {
      "text/plain": [
       "array([67, 89, 40])"
      ]
     },
     "execution_count": 29,
     "metadata": {},
     "output_type": "execute_result"
    }
   ],
   "source": [
    "train_data['temperature'].unique()\n"
   ]
  },
  {
   "cell_type": "code",
   "execution_count": 30,
   "id": "09f379fa",
   "metadata": {
    "execution": {
     "iopub.execute_input": "2023-01-13T21:52:32.905248Z",
     "iopub.status.busy": "2023-01-13T21:52:32.904768Z",
     "iopub.status.idle": "2023-01-13T21:52:32.910972Z",
     "shell.execute_reply": "2023-01-13T21:52:32.909362Z"
    },
    "papermill": {
     "duration": 0.026344,
     "end_time": "2023-01-13T21:52:32.913721",
     "exception": false,
     "start_time": "2023-01-13T21:52:32.887377",
     "status": "completed"
    },
    "tags": []
   },
   "outputs": [],
   "source": [
    "# train_data['Restaur_spend_greater_than20'].unique()\n",
    "# train_data['Restaur_spend_greater_than20']=train_data['Restaur_spend_greater_than20'].replace(to_replace='4~8',value=6)\n",
    "# train_data['Restaur_spend_greater_than20']=train_data['Restaur_spend_greater_than20'].replace(to_replace='less1',value=1)\n",
    "# train_data['Restaur_spend_greater_than20']=train_data['Restaur_spend_greater_than20'].replace(to_replace='never',value=0)\n",
    "# train_data['Restaur_spend_greater_than20']=train_data['Restaur_spend_greater_than20'].replace(to_replace='1~3',value=2)\n",
    "# train_data['Restaur_spend_greater_than20']=train_data['Restaur_spend_greater_than20'].replace(to_replace='gt8',value=8)\n",
    "# train_data['Restaur_spend_greater_than20'].unique()"
   ]
  },
  {
   "cell_type": "code",
   "execution_count": 31,
   "id": "19a92b52",
   "metadata": {
    "execution": {
     "iopub.execute_input": "2023-01-13T21:52:32.946894Z",
     "iopub.status.busy": "2023-01-13T21:52:32.946408Z",
     "iopub.status.idle": "2023-01-13T21:52:32.954588Z",
     "shell.execute_reply": "2023-01-13T21:52:32.953448Z"
    },
    "papermill": {
     "duration": 0.028208,
     "end_time": "2023-01-13T21:52:32.957411",
     "exception": false,
     "start_time": "2023-01-13T21:52:32.929203",
     "status": "completed"
    },
    "tags": []
   },
   "outputs": [
    {
     "data": {
      "text/plain": [
       "array([22, 18,  7, 10, 14])"
      ]
     },
     "execution_count": 31,
     "metadata": {},
     "output_type": "execute_result"
    }
   ],
   "source": [
    "train_data['Travel Time'].unique()"
   ]
  },
  {
   "cell_type": "code",
   "execution_count": 32,
   "id": "71bce00f",
   "metadata": {
    "execution": {
     "iopub.execute_input": "2023-01-13T21:52:32.994179Z",
     "iopub.status.busy": "2023-01-13T21:52:32.991541Z",
     "iopub.status.idle": "2023-01-13T21:52:33.002525Z",
     "shell.execute_reply": "2023-01-13T21:52:33.001227Z"
    },
    "papermill": {
     "duration": 0.031391,
     "end_time": "2023-01-13T21:52:33.005416",
     "exception": false,
     "start_time": "2023-01-13T21:52:32.974025",
     "status": "completed"
    },
    "tags": []
   },
   "outputs": [
    {
     "data": {
      "text/plain": [
       "array(['Spring', 'Summer', 'Winter'], dtype=object)"
      ]
     },
     "execution_count": 32,
     "metadata": {},
     "output_type": "execute_result"
    }
   ],
   "source": [
    "train_data['Climate'].unique()"
   ]
  },
  {
   "cell_type": "code",
   "execution_count": 33,
   "id": "1394780d",
   "metadata": {
    "execution": {
     "iopub.execute_input": "2023-01-13T21:52:33.041590Z",
     "iopub.status.busy": "2023-01-13T21:52:33.041136Z",
     "iopub.status.idle": "2023-01-13T21:52:33.048587Z",
     "shell.execute_reply": "2023-01-13T21:52:33.047774Z"
    },
    "papermill": {
     "duration": 0.029297,
     "end_time": "2023-01-13T21:52:33.052169",
     "exception": false,
     "start_time": "2023-01-13T21:52:33.022872",
     "status": "completed"
    },
    "tags": []
   },
   "outputs": [
    {
     "data": {
      "text/plain": [
       "array(['Location B', 'Location A', 'Location C'], dtype=object)"
      ]
     },
     "execution_count": 33,
     "metadata": {},
     "output_type": "execute_result"
    }
   ],
   "source": [
    "train_data['drop location'].unique()"
   ]
  },
  {
   "cell_type": "code",
   "execution_count": 34,
   "id": "ca6aa481",
   "metadata": {
    "execution": {
     "iopub.execute_input": "2023-01-13T21:52:33.086981Z",
     "iopub.status.busy": "2023-01-13T21:52:33.086523Z",
     "iopub.status.idle": "2023-01-13T21:52:33.094262Z",
     "shell.execute_reply": "2023-01-13T21:52:33.092950Z"
    },
    "papermill": {
     "duration": 0.027872,
     "end_time": "2023-01-13T21:52:33.096648",
     "exception": false,
     "start_time": "2023-01-13T21:52:33.068776",
     "status": "completed"
    },
    "tags": []
   },
   "outputs": [
    {
     "data": {
      "text/plain": [
       "array([0, 1])"
      ]
     },
     "execution_count": 34,
     "metadata": {},
     "output_type": "execute_result"
    }
   ],
   "source": [
    "train_data['Prefer home food'].unique()"
   ]
  },
  {
   "cell_type": "code",
   "execution_count": 35,
   "id": "77981a3f",
   "metadata": {
    "execution": {
     "iopub.execute_input": "2023-01-13T21:52:33.130318Z",
     "iopub.status.busy": "2023-01-13T21:52:33.129872Z",
     "iopub.status.idle": "2023-01-13T21:52:33.135691Z",
     "shell.execute_reply": "2023-01-13T21:52:33.134392Z"
    },
    "papermill": {
     "duration": 0.025617,
     "end_time": "2023-01-13T21:52:33.138189",
     "exception": false,
     "start_time": "2023-01-13T21:52:33.112572",
     "status": "completed"
    },
    "tags": []
   },
   "outputs": [],
   "source": [
    "target=train_data['Offer Accepted']"
   ]
  },
  {
   "cell_type": "code",
   "execution_count": 36,
   "id": "a68f5ab4",
   "metadata": {
    "execution": {
     "iopub.execute_input": "2023-01-13T21:52:33.171838Z",
     "iopub.status.busy": "2023-01-13T21:52:33.171033Z",
     "iopub.status.idle": "2023-01-13T21:52:33.178797Z",
     "shell.execute_reply": "2023-01-13T21:52:33.177696Z"
    },
    "papermill": {
     "duration": 0.026956,
     "end_time": "2023-01-13T21:52:33.180947",
     "exception": false,
     "start_time": "2023-01-13T21:52:33.153991",
     "status": "completed"
    },
    "tags": []
   },
   "outputs": [
    {
     "data": {
      "text/plain": [
       "0     No\n",
       "1    Yes\n",
       "2    Yes\n",
       "3     No\n",
       "4     No\n",
       "Name: Offer Accepted, dtype: object"
      ]
     },
     "execution_count": 36,
     "metadata": {},
     "output_type": "execute_result"
    }
   ],
   "source": [
    "target.head()"
   ]
  },
  {
   "cell_type": "code",
   "execution_count": 37,
   "id": "6ddc63b1",
   "metadata": {
    "execution": {
     "iopub.execute_input": "2023-01-13T21:52:33.214980Z",
     "iopub.status.busy": "2023-01-13T21:52:33.214191Z",
     "iopub.status.idle": "2023-01-13T21:52:33.239380Z",
     "shell.execute_reply": "2023-01-13T21:52:33.238095Z"
    },
    "papermill": {
     "duration": 0.045417,
     "end_time": "2023-01-13T21:52:33.242212",
     "exception": false,
     "start_time": "2023-01-13T21:52:33.196795",
     "status": "completed"
    },
    "tags": []
   },
   "outputs": [
    {
     "data": {
      "text/plain": [
       "['Customer type',\n",
       " 'Job/Job Industry',\n",
       " 'no_visited_bars',\n",
       " 'no_Take-aways',\n",
       " 'restaurant type',\n",
       " 'age',\n",
       " 'no_visited_Cold drinks',\n",
       " 'Qualification',\n",
       " 'Restaur_spend_greater_than20',\n",
       " 'Climate',\n",
       " 'income_range',\n",
       " 'drop location',\n",
       " 'Restaur_spend_less_than20',\n",
       " 'car',\n",
       " 'Marital Status',\n",
       " 'gender']"
      ]
     },
     "execution_count": 37,
     "metadata": {},
     "output_type": "execute_result"
    }
   ],
   "source": [
    "# colsame=['no_visited_Cold drinks','car','Restaur_spend_less_than20','no_Take-aways','Restaur_spend_greater_than20','no_visited_bars']\n",
    "obj_colmn=[]\n",
    "for i in train_data.columns:\n",
    "    if train_data[i].dtype=='object' and i!='Offer Accepted':\n",
    "        obj_colmn.append(i)\n",
    "newlist=obj_colmn\n",
    "newlist=list(set(newlist))\n",
    "train_data=train_data.drop('Offer Accepted',axis=1)\n",
    "newlist"
   ]
  },
  {
   "cell_type": "code",
   "execution_count": 38,
   "id": "8c7c2714",
   "metadata": {
    "execution": {
     "iopub.execute_input": "2023-01-13T21:52:33.276467Z",
     "iopub.status.busy": "2023-01-13T21:52:33.276003Z",
     "iopub.status.idle": "2023-01-13T21:52:33.283372Z",
     "shell.execute_reply": "2023-01-13T21:52:33.282260Z"
    },
    "papermill": {
     "duration": 0.027388,
     "end_time": "2023-01-13T21:52:33.285889",
     "exception": false,
     "start_time": "2023-01-13T21:52:33.258501",
     "status": "completed"
    },
    "tags": []
   },
   "outputs": [
    {
     "data": {
      "text/plain": [
       "16"
      ]
     },
     "execution_count": 38,
     "metadata": {},
     "output_type": "execute_result"
    }
   ],
   "source": [
    "len(newlist)"
   ]
  },
  {
   "cell_type": "code",
   "execution_count": 39,
   "id": "f7b311a0",
   "metadata": {
    "execution": {
     "iopub.execute_input": "2023-01-13T21:52:33.320268Z",
     "iopub.status.busy": "2023-01-13T21:52:33.319470Z",
     "iopub.status.idle": "2023-01-13T21:52:35.246329Z",
     "shell.execute_reply": "2023-01-13T21:52:35.245008Z"
    },
    "papermill": {
     "duration": 1.947164,
     "end_time": "2023-01-13T21:52:35.249259",
     "exception": false,
     "start_time": "2023-01-13T21:52:33.302095",
     "status": "completed"
    },
    "tags": []
   },
   "outputs": [
    {
     "name": "stderr",
     "output_type": "stream",
     "text": [
      "/opt/conda/lib/python3.7/site-packages/sklearn/utils/deprecation.py:87: FutureWarning: Function get_feature_names is deprecated; get_feature_names is deprecated in 1.0 and will be removed in 1.2. Please use get_feature_names_out instead.\n",
      "  warnings.warn(msg, category=FutureWarning)\n",
      "/opt/conda/lib/python3.7/site-packages/sklearn/utils/deprecation.py:87: FutureWarning: Function get_feature_names is deprecated; get_feature_names is deprecated in 1.0 and will be removed in 1.2. Please use get_feature_names_out instead.\n",
      "  warnings.warn(msg, category=FutureWarning)\n"
     ]
    }
   ],
   "source": [
    "from sklearn.impute import SimpleImputer\n",
    "from sklearn.preprocessing import OneHotEncoder\n",
    "from sklearn.compose import ColumnTransformer\n",
    "from sklearn.pipeline import Pipeline\n",
    "# transformations for training data\n",
    "si=SimpleImputer(missing_values=np.nan,strategy='most_frequent')\n",
    "train_imputed=si.fit_transform(train_data)\n",
    "train_imputed=pd.DataFrame(train_imputed,columns=train_data.columns)\n",
    "ctf=ColumnTransformer([('ohe',OneHotEncoder(sparse=False),newlist)],remainder='passthrough')\n",
    "train_tf=ctf.fit_transform(train_imputed)\n",
    "newfeatures=ctf.get_feature_names()\n",
    "train_tf=pd.DataFrame(train_tf,columns=newfeatures)\n",
    "# train_tf.info()\n",
    "# ----------------------------------------------------------------------------------------------------------\n",
    "# transformations for test data\n",
    "si2=SimpleImputer(missing_values=np.nan,strategy='most_frequent')\n",
    "test_imputed=si2.fit_transform(testdata)\n",
    "test_imputed=pd.DataFrame(test_imputed,columns=testdata.columns)\n",
    "ctf=ColumnTransformer([('ohe',OneHotEncoder(sparse=False),newlist)],remainder='passthrough')\n",
    "test_tf=ctf.fit_transform(testdata)\n",
    "newfeatures=ctf.get_feature_names()\n",
    "test_tf=pd.DataFrame(test_tf,columns=newfeatures)\n",
    "# test_tf.info()\n",
    "# test_tf.head()\n",
    "# train_tf=ct.fit_transform(train_data)\n",
    "# ct.ohe.categories_"
   ]
  },
  {
   "cell_type": "code",
   "execution_count": 40,
   "id": "48d9a118",
   "metadata": {
    "execution": {
     "iopub.execute_input": "2023-01-13T21:52:35.283697Z",
     "iopub.status.busy": "2023-01-13T21:52:35.283258Z",
     "iopub.status.idle": "2023-01-13T21:52:35.309125Z",
     "shell.execute_reply": "2023-01-13T21:52:35.308132Z"
    },
    "papermill": {
     "duration": 0.045686,
     "end_time": "2023-01-13T21:52:35.311364",
     "exception": false,
     "start_time": "2023-01-13T21:52:35.265678",
     "status": "completed"
    },
    "tags": []
   },
   "outputs": [
    {
     "data": {
      "text/html": [
       "<div>\n",
       "<style scoped>\n",
       "    .dataframe tbody tr th:only-of-type {\n",
       "        vertical-align: middle;\n",
       "    }\n",
       "\n",
       "    .dataframe tbody tr th {\n",
       "        vertical-align: top;\n",
       "    }\n",
       "\n",
       "    .dataframe thead th {\n",
       "        text-align: right;\n",
       "    }\n",
       "</style>\n",
       "<table border=\"1\" class=\"dataframe\">\n",
       "  <thead>\n",
       "    <tr style=\"text-align: right;\">\n",
       "      <th></th>\n",
       "      <th>ohe__x0_Individual</th>\n",
       "      <th>ohe__x0_With Colleagues</th>\n",
       "      <th>ohe__x0_With Family</th>\n",
       "      <th>ohe__x0_With Kids</th>\n",
       "      <th>ohe__x1_Architecture &amp; Engineering</th>\n",
       "      <th>ohe__x1_Arts Design Entertainment Sports &amp; Media</th>\n",
       "      <th>ohe__x1_Building &amp; Grounds Cleaning &amp; Maintenance</th>\n",
       "      <th>ohe__x1_Business &amp; Financial</th>\n",
       "      <th>ohe__x1_Community &amp; Social Services</th>\n",
       "      <th>ohe__x1_Computer &amp; Mathematical</th>\n",
       "      <th>...</th>\n",
       "      <th>travelled_more_than_5mins_for_offer</th>\n",
       "      <th>restuarant_same_direction_house</th>\n",
       "      <th>Cooks regularly</th>\n",
       "      <th>is foodie</th>\n",
       "      <th>restuarant_opposite_direction_house</th>\n",
       "      <th>has Children</th>\n",
       "      <th>visit restaurant with rating (avg)</th>\n",
       "      <th>temperature</th>\n",
       "      <th>Travel Time</th>\n",
       "      <th>Prefer home food</th>\n",
       "    </tr>\n",
       "  </thead>\n",
       "  <tbody>\n",
       "    <tr>\n",
       "      <th>0</th>\n",
       "      <td>1.0</td>\n",
       "      <td>0.0</td>\n",
       "      <td>0.0</td>\n",
       "      <td>0.0</td>\n",
       "      <td>0.0</td>\n",
       "      <td>0.0</td>\n",
       "      <td>0.0</td>\n",
       "      <td>0.0</td>\n",
       "      <td>0.0</td>\n",
       "      <td>0.0</td>\n",
       "      <td>...</td>\n",
       "      <td>1</td>\n",
       "      <td>0</td>\n",
       "      <td>1</td>\n",
       "      <td>0</td>\n",
       "      <td>0</td>\n",
       "      <td>0</td>\n",
       "      <td>4</td>\n",
       "      <td>67</td>\n",
       "      <td>22</td>\n",
       "      <td>0</td>\n",
       "    </tr>\n",
       "    <tr>\n",
       "      <th>1</th>\n",
       "      <td>1.0</td>\n",
       "      <td>0.0</td>\n",
       "      <td>0.0</td>\n",
       "      <td>0.0</td>\n",
       "      <td>0.0</td>\n",
       "      <td>0.0</td>\n",
       "      <td>0.0</td>\n",
       "      <td>0.0</td>\n",
       "      <td>0.0</td>\n",
       "      <td>0.0</td>\n",
       "      <td>...</td>\n",
       "      <td>1</td>\n",
       "      <td>1</td>\n",
       "      <td>1</td>\n",
       "      <td>0</td>\n",
       "      <td>0</td>\n",
       "      <td>1</td>\n",
       "      <td>3</td>\n",
       "      <td>89</td>\n",
       "      <td>18</td>\n",
       "      <td>0</td>\n",
       "    </tr>\n",
       "    <tr>\n",
       "      <th>2</th>\n",
       "      <td>1.0</td>\n",
       "      <td>0.0</td>\n",
       "      <td>0.0</td>\n",
       "      <td>0.0</td>\n",
       "      <td>0.0</td>\n",
       "      <td>1.0</td>\n",
       "      <td>0.0</td>\n",
       "      <td>0.0</td>\n",
       "      <td>0.0</td>\n",
       "      <td>0.0</td>\n",
       "      <td>...</td>\n",
       "      <td>1</td>\n",
       "      <td>1</td>\n",
       "      <td>0</td>\n",
       "      <td>1</td>\n",
       "      <td>1</td>\n",
       "      <td>1</td>\n",
       "      <td>4</td>\n",
       "      <td>67</td>\n",
       "      <td>7</td>\n",
       "      <td>1</td>\n",
       "    </tr>\n",
       "    <tr>\n",
       "      <th>3</th>\n",
       "      <td>1.0</td>\n",
       "      <td>0.0</td>\n",
       "      <td>0.0</td>\n",
       "      <td>0.0</td>\n",
       "      <td>0.0</td>\n",
       "      <td>0.0</td>\n",
       "      <td>0.0</td>\n",
       "      <td>0.0</td>\n",
       "      <td>0.0</td>\n",
       "      <td>0.0</td>\n",
       "      <td>...</td>\n",
       "      <td>1</td>\n",
       "      <td>1</td>\n",
       "      <td>0</td>\n",
       "      <td>1</td>\n",
       "      <td>0</td>\n",
       "      <td>1</td>\n",
       "      <td>3</td>\n",
       "      <td>89</td>\n",
       "      <td>7</td>\n",
       "      <td>0</td>\n",
       "    </tr>\n",
       "    <tr>\n",
       "      <th>4</th>\n",
       "      <td>1.0</td>\n",
       "      <td>0.0</td>\n",
       "      <td>0.0</td>\n",
       "      <td>0.0</td>\n",
       "      <td>0.0</td>\n",
       "      <td>0.0</td>\n",
       "      <td>0.0</td>\n",
       "      <td>0.0</td>\n",
       "      <td>0.0</td>\n",
       "      <td>0.0</td>\n",
       "      <td>...</td>\n",
       "      <td>1</td>\n",
       "      <td>0</td>\n",
       "      <td>0</td>\n",
       "      <td>1</td>\n",
       "      <td>1</td>\n",
       "      <td>0</td>\n",
       "      <td>3</td>\n",
       "      <td>40</td>\n",
       "      <td>7</td>\n",
       "      <td>0</td>\n",
       "    </tr>\n",
       "  </tbody>\n",
       "</table>\n",
       "<p>5 rows × 114 columns</p>\n",
       "</div>"
      ],
      "text/plain": [
       "  ohe__x0_Individual ohe__x0_With Colleagues ohe__x0_With Family  \\\n",
       "0                1.0                     0.0                 0.0   \n",
       "1                1.0                     0.0                 0.0   \n",
       "2                1.0                     0.0                 0.0   \n",
       "3                1.0                     0.0                 0.0   \n",
       "4                1.0                     0.0                 0.0   \n",
       "\n",
       "  ohe__x0_With Kids ohe__x1_Architecture & Engineering  \\\n",
       "0               0.0                                0.0   \n",
       "1               0.0                                0.0   \n",
       "2               0.0                                0.0   \n",
       "3               0.0                                0.0   \n",
       "4               0.0                                0.0   \n",
       "\n",
       "  ohe__x1_Arts Design Entertainment Sports & Media  \\\n",
       "0                                              0.0   \n",
       "1                                              0.0   \n",
       "2                                              1.0   \n",
       "3                                              0.0   \n",
       "4                                              0.0   \n",
       "\n",
       "  ohe__x1_Building & Grounds Cleaning & Maintenance  \\\n",
       "0                                               0.0   \n",
       "1                                               0.0   \n",
       "2                                               0.0   \n",
       "3                                               0.0   \n",
       "4                                               0.0   \n",
       "\n",
       "  ohe__x1_Business & Financial ohe__x1_Community & Social Services  \\\n",
       "0                          0.0                                 0.0   \n",
       "1                          0.0                                 0.0   \n",
       "2                          0.0                                 0.0   \n",
       "3                          0.0                                 0.0   \n",
       "4                          0.0                                 0.0   \n",
       "\n",
       "  ohe__x1_Computer & Mathematical  ... travelled_more_than_5mins_for_offer  \\\n",
       "0                             0.0  ...                                   1   \n",
       "1                             0.0  ...                                   1   \n",
       "2                             0.0  ...                                   1   \n",
       "3                             0.0  ...                                   1   \n",
       "4                             0.0  ...                                   1   \n",
       "\n",
       "  restuarant_same_direction_house Cooks regularly is foodie  \\\n",
       "0                               0               1         0   \n",
       "1                               1               1         0   \n",
       "2                               1               0         1   \n",
       "3                               1               0         1   \n",
       "4                               0               0         1   \n",
       "\n",
       "  restuarant_opposite_direction_house has Children  \\\n",
       "0                                   0            0   \n",
       "1                                   0            1   \n",
       "2                                   1            1   \n",
       "3                                   0            1   \n",
       "4                                   1            0   \n",
       "\n",
       "  visit restaurant with rating (avg) temperature Travel Time Prefer home food  \n",
       "0                                  4          67          22                0  \n",
       "1                                  3          89          18                0  \n",
       "2                                  4          67           7                1  \n",
       "3                                  3          89           7                0  \n",
       "4                                  3          40           7                0  \n",
       "\n",
       "[5 rows x 114 columns]"
      ]
     },
     "execution_count": 40,
     "metadata": {},
     "output_type": "execute_result"
    }
   ],
   "source": [
    "train_tf.head()"
   ]
  },
  {
   "cell_type": "code",
   "execution_count": 41,
   "id": "c68c356e",
   "metadata": {
    "execution": {
     "iopub.execute_input": "2023-01-13T21:52:35.348041Z",
     "iopub.status.busy": "2023-01-13T21:52:35.347323Z",
     "iopub.status.idle": "2023-01-13T21:52:35.378945Z",
     "shell.execute_reply": "2023-01-13T21:52:35.377676Z"
    },
    "papermill": {
     "duration": 0.053504,
     "end_time": "2023-01-13T21:52:35.381761",
     "exception": false,
     "start_time": "2023-01-13T21:52:35.328257",
     "status": "completed"
    },
    "tags": []
   },
   "outputs": [
    {
     "data": {
      "text/html": [
       "<div>\n",
       "<style scoped>\n",
       "    .dataframe tbody tr th:only-of-type {\n",
       "        vertical-align: middle;\n",
       "    }\n",
       "\n",
       "    .dataframe tbody tr th {\n",
       "        vertical-align: top;\n",
       "    }\n",
       "\n",
       "    .dataframe thead th {\n",
       "        text-align: right;\n",
       "    }\n",
       "</style>\n",
       "<table border=\"1\" class=\"dataframe\">\n",
       "  <thead>\n",
       "    <tr style=\"text-align: right;\">\n",
       "      <th></th>\n",
       "      <th>ohe__x0_Individual</th>\n",
       "      <th>ohe__x0_With Colleagues</th>\n",
       "      <th>ohe__x0_With Family</th>\n",
       "      <th>ohe__x0_With Kids</th>\n",
       "      <th>ohe__x1_Architecture &amp; Engineering</th>\n",
       "      <th>ohe__x1_Arts Design Entertainment Sports &amp; Media</th>\n",
       "      <th>ohe__x1_Building &amp; Grounds Cleaning &amp; Maintenance</th>\n",
       "      <th>ohe__x1_Business &amp; Financial</th>\n",
       "      <th>ohe__x1_Community &amp; Social Services</th>\n",
       "      <th>ohe__x1_Computer &amp; Mathematical</th>\n",
       "      <th>...</th>\n",
       "      <th>travelled_more_than_5mins_for_offer</th>\n",
       "      <th>restuarant_same_direction_house</th>\n",
       "      <th>Cooks regularly</th>\n",
       "      <th>is foodie</th>\n",
       "      <th>restuarant_opposite_direction_house</th>\n",
       "      <th>has Children</th>\n",
       "      <th>visit restaurant with rating (avg)</th>\n",
       "      <th>temperature</th>\n",
       "      <th>Travel Time</th>\n",
       "      <th>Prefer home food</th>\n",
       "    </tr>\n",
       "  </thead>\n",
       "  <tbody>\n",
       "    <tr>\n",
       "      <th>0</th>\n",
       "      <td>1.0</td>\n",
       "      <td>0.0</td>\n",
       "      <td>0.0</td>\n",
       "      <td>0.0</td>\n",
       "      <td>0.0</td>\n",
       "      <td>0.0</td>\n",
       "      <td>0.0</td>\n",
       "      <td>0.0</td>\n",
       "      <td>0.0</td>\n",
       "      <td>0.0</td>\n",
       "      <td>...</td>\n",
       "      <td>1.0</td>\n",
       "      <td>0.0</td>\n",
       "      <td>0.0</td>\n",
       "      <td>0.0</td>\n",
       "      <td>1.0</td>\n",
       "      <td>1.0</td>\n",
       "      <td>4.0</td>\n",
       "      <td>89.0</td>\n",
       "      <td>7.0</td>\n",
       "      <td>0.0</td>\n",
       "    </tr>\n",
       "    <tr>\n",
       "      <th>1</th>\n",
       "      <td>1.0</td>\n",
       "      <td>0.0</td>\n",
       "      <td>0.0</td>\n",
       "      <td>0.0</td>\n",
       "      <td>0.0</td>\n",
       "      <td>0.0</td>\n",
       "      <td>0.0</td>\n",
       "      <td>0.0</td>\n",
       "      <td>0.0</td>\n",
       "      <td>1.0</td>\n",
       "      <td>...</td>\n",
       "      <td>1.0</td>\n",
       "      <td>0.0</td>\n",
       "      <td>0.0</td>\n",
       "      <td>1.0</td>\n",
       "      <td>1.0</td>\n",
       "      <td>1.0</td>\n",
       "      <td>0.0</td>\n",
       "      <td>67.0</td>\n",
       "      <td>18.0</td>\n",
       "      <td>1.0</td>\n",
       "    </tr>\n",
       "    <tr>\n",
       "      <th>2</th>\n",
       "      <td>1.0</td>\n",
       "      <td>0.0</td>\n",
       "      <td>0.0</td>\n",
       "      <td>0.0</td>\n",
       "      <td>0.0</td>\n",
       "      <td>0.0</td>\n",
       "      <td>0.0</td>\n",
       "      <td>0.0</td>\n",
       "      <td>0.0</td>\n",
       "      <td>0.0</td>\n",
       "      <td>...</td>\n",
       "      <td>1.0</td>\n",
       "      <td>0.0</td>\n",
       "      <td>1.0</td>\n",
       "      <td>0.0</td>\n",
       "      <td>1.0</td>\n",
       "      <td>0.0</td>\n",
       "      <td>4.0</td>\n",
       "      <td>67.0</td>\n",
       "      <td>7.0</td>\n",
       "      <td>0.0</td>\n",
       "    </tr>\n",
       "    <tr>\n",
       "      <th>3</th>\n",
       "      <td>1.0</td>\n",
       "      <td>0.0</td>\n",
       "      <td>0.0</td>\n",
       "      <td>0.0</td>\n",
       "      <td>0.0</td>\n",
       "      <td>0.0</td>\n",
       "      <td>0.0</td>\n",
       "      <td>0.0</td>\n",
       "      <td>0.0</td>\n",
       "      <td>0.0</td>\n",
       "      <td>...</td>\n",
       "      <td>1.0</td>\n",
       "      <td>0.0</td>\n",
       "      <td>0.0</td>\n",
       "      <td>1.0</td>\n",
       "      <td>1.0</td>\n",
       "      <td>1.0</td>\n",
       "      <td>0.0</td>\n",
       "      <td>40.0</td>\n",
       "      <td>18.0</td>\n",
       "      <td>1.0</td>\n",
       "    </tr>\n",
       "    <tr>\n",
       "      <th>4</th>\n",
       "      <td>0.0</td>\n",
       "      <td>0.0</td>\n",
       "      <td>1.0</td>\n",
       "      <td>0.0</td>\n",
       "      <td>0.0</td>\n",
       "      <td>0.0</td>\n",
       "      <td>0.0</td>\n",
       "      <td>0.0</td>\n",
       "      <td>0.0</td>\n",
       "      <td>0.0</td>\n",
       "      <td>...</td>\n",
       "      <td>1.0</td>\n",
       "      <td>1.0</td>\n",
       "      <td>0.0</td>\n",
       "      <td>1.0</td>\n",
       "      <td>0.0</td>\n",
       "      <td>0.0</td>\n",
       "      <td>0.0</td>\n",
       "      <td>89.0</td>\n",
       "      <td>18.0</td>\n",
       "      <td>1.0</td>\n",
       "    </tr>\n",
       "  </tbody>\n",
       "</table>\n",
       "<p>5 rows × 120 columns</p>\n",
       "</div>"
      ],
      "text/plain": [
       "   ohe__x0_Individual  ohe__x0_With Colleagues  ohe__x0_With Family  \\\n",
       "0                 1.0                      0.0                  0.0   \n",
       "1                 1.0                      0.0                  0.0   \n",
       "2                 1.0                      0.0                  0.0   \n",
       "3                 1.0                      0.0                  0.0   \n",
       "4                 0.0                      0.0                  1.0   \n",
       "\n",
       "   ohe__x0_With Kids  ohe__x1_Architecture & Engineering  \\\n",
       "0                0.0                                 0.0   \n",
       "1                0.0                                 0.0   \n",
       "2                0.0                                 0.0   \n",
       "3                0.0                                 0.0   \n",
       "4                0.0                                 0.0   \n",
       "\n",
       "   ohe__x1_Arts Design Entertainment Sports & Media  \\\n",
       "0                                               0.0   \n",
       "1                                               0.0   \n",
       "2                                               0.0   \n",
       "3                                               0.0   \n",
       "4                                               0.0   \n",
       "\n",
       "   ohe__x1_Building & Grounds Cleaning & Maintenance  \\\n",
       "0                                                0.0   \n",
       "1                                                0.0   \n",
       "2                                                0.0   \n",
       "3                                                0.0   \n",
       "4                                                0.0   \n",
       "\n",
       "   ohe__x1_Business & Financial  ohe__x1_Community & Social Services  \\\n",
       "0                           0.0                                  0.0   \n",
       "1                           0.0                                  0.0   \n",
       "2                           0.0                                  0.0   \n",
       "3                           0.0                                  0.0   \n",
       "4                           0.0                                  0.0   \n",
       "\n",
       "   ohe__x1_Computer & Mathematical  ...  travelled_more_than_5mins_for_offer  \\\n",
       "0                              0.0  ...                                  1.0   \n",
       "1                              1.0  ...                                  1.0   \n",
       "2                              0.0  ...                                  1.0   \n",
       "3                              0.0  ...                                  1.0   \n",
       "4                              0.0  ...                                  1.0   \n",
       "\n",
       "   restuarant_same_direction_house  Cooks regularly  is foodie  \\\n",
       "0                              0.0              0.0        0.0   \n",
       "1                              0.0              0.0        1.0   \n",
       "2                              0.0              1.0        0.0   \n",
       "3                              0.0              0.0        1.0   \n",
       "4                              1.0              0.0        1.0   \n",
       "\n",
       "   restuarant_opposite_direction_house  has Children  \\\n",
       "0                                  1.0           1.0   \n",
       "1                                  1.0           1.0   \n",
       "2                                  1.0           0.0   \n",
       "3                                  1.0           1.0   \n",
       "4                                  0.0           0.0   \n",
       "\n",
       "   visit restaurant with rating (avg)  temperature  Travel Time  \\\n",
       "0                                 4.0         89.0          7.0   \n",
       "1                                 0.0         67.0         18.0   \n",
       "2                                 4.0         67.0          7.0   \n",
       "3                                 0.0         40.0         18.0   \n",
       "4                                 0.0         89.0         18.0   \n",
       "\n",
       "   Prefer home food  \n",
       "0               0.0  \n",
       "1               1.0  \n",
       "2               0.0  \n",
       "3               1.0  \n",
       "4               1.0  \n",
       "\n",
       "[5 rows x 120 columns]"
      ]
     },
     "execution_count": 41,
     "metadata": {},
     "output_type": "execute_result"
    }
   ],
   "source": [
    "test_tf.head()"
   ]
  },
  {
   "cell_type": "code",
   "execution_count": 42,
   "id": "15cce171",
   "metadata": {
    "execution": {
     "iopub.execute_input": "2023-01-13T21:52:35.419110Z",
     "iopub.status.busy": "2023-01-13T21:52:35.417990Z",
     "iopub.status.idle": "2023-01-13T21:52:35.433603Z",
     "shell.execute_reply": "2023-01-13T21:52:35.432607Z"
    },
    "papermill": {
     "duration": 0.038239,
     "end_time": "2023-01-13T21:52:35.437470",
     "exception": false,
     "start_time": "2023-01-13T21:52:35.399231",
     "status": "completed"
    },
    "tags": []
   },
   "outputs": [
    {
     "name": "stdout",
     "output_type": "stream",
     "text": [
      "no of features in train data:  114\n",
      "no of features in test data:  114\n"
     ]
    }
   ],
   "source": [
    "l1=test_tf.columns\n",
    "l2=train_tf.columns\n",
    "test_tf=test_tf.drop([val for val in test_tf.columns if val not in train_tf],axis=1)\n",
    "print(\"no of features in train data: \",train_tf.shape[1])\n",
    "print(\"no of features in test data: \",test_tf.shape[1])"
   ]
  },
  {
   "cell_type": "code",
   "execution_count": 43,
   "id": "4d201f70",
   "metadata": {
    "execution": {
     "iopub.execute_input": "2023-01-13T21:52:35.475725Z",
     "iopub.status.busy": "2023-01-13T21:52:35.474504Z",
     "iopub.status.idle": "2023-01-13T21:52:35.486152Z",
     "shell.execute_reply": "2023-01-13T21:52:35.485006Z"
    },
    "papermill": {
     "duration": 0.033081,
     "end_time": "2023-01-13T21:52:35.488649",
     "exception": false,
     "start_time": "2023-01-13T21:52:35.455568",
     "status": "completed"
    },
    "tags": []
   },
   "outputs": [],
   "source": [
    "target=target.replace('No',0)\n",
    "target=target.replace('Yes',1)"
   ]
  },
  {
   "cell_type": "code",
   "execution_count": 44,
   "id": "2d2efee1",
   "metadata": {
    "execution": {
     "iopub.execute_input": "2023-01-13T21:52:35.526162Z",
     "iopub.status.busy": "2023-01-13T21:52:35.525051Z",
     "iopub.status.idle": "2023-01-13T21:52:35.552950Z",
     "shell.execute_reply": "2023-01-13T21:52:35.551665Z"
    },
    "papermill": {
     "duration": 0.049132,
     "end_time": "2023-01-13T21:52:35.555298",
     "exception": false,
     "start_time": "2023-01-13T21:52:35.506166",
     "status": "completed"
    },
    "tags": []
   },
   "outputs": [
    {
     "data": {
      "text/html": [
       "<div>\n",
       "<style scoped>\n",
       "    .dataframe tbody tr th:only-of-type {\n",
       "        vertical-align: middle;\n",
       "    }\n",
       "\n",
       "    .dataframe tbody tr th {\n",
       "        vertical-align: top;\n",
       "    }\n",
       "\n",
       "    .dataframe thead th {\n",
       "        text-align: right;\n",
       "    }\n",
       "</style>\n",
       "<table border=\"1\" class=\"dataframe\">\n",
       "  <thead>\n",
       "    <tr style=\"text-align: right;\">\n",
       "      <th></th>\n",
       "      <th>ohe__x0_Individual</th>\n",
       "      <th>ohe__x0_With Colleagues</th>\n",
       "      <th>ohe__x0_With Family</th>\n",
       "      <th>ohe__x0_With Kids</th>\n",
       "      <th>ohe__x1_Architecture &amp; Engineering</th>\n",
       "      <th>ohe__x1_Arts Design Entertainment Sports &amp; Media</th>\n",
       "      <th>ohe__x1_Building &amp; Grounds Cleaning &amp; Maintenance</th>\n",
       "      <th>ohe__x1_Business &amp; Financial</th>\n",
       "      <th>ohe__x1_Community &amp; Social Services</th>\n",
       "      <th>ohe__x1_Computer &amp; Mathematical</th>\n",
       "      <th>...</th>\n",
       "      <th>travelled_more_than_5mins_for_offer</th>\n",
       "      <th>restuarant_same_direction_house</th>\n",
       "      <th>Cooks regularly</th>\n",
       "      <th>is foodie</th>\n",
       "      <th>restuarant_opposite_direction_house</th>\n",
       "      <th>has Children</th>\n",
       "      <th>visit restaurant with rating (avg)</th>\n",
       "      <th>temperature</th>\n",
       "      <th>Travel Time</th>\n",
       "      <th>Prefer home food</th>\n",
       "    </tr>\n",
       "  </thead>\n",
       "  <tbody>\n",
       "    <tr>\n",
       "      <th>0</th>\n",
       "      <td>1.0</td>\n",
       "      <td>0.0</td>\n",
       "      <td>0.0</td>\n",
       "      <td>0.0</td>\n",
       "      <td>0.0</td>\n",
       "      <td>0.0</td>\n",
       "      <td>0.0</td>\n",
       "      <td>0.0</td>\n",
       "      <td>0.0</td>\n",
       "      <td>0.0</td>\n",
       "      <td>...</td>\n",
       "      <td>1</td>\n",
       "      <td>0</td>\n",
       "      <td>1</td>\n",
       "      <td>0</td>\n",
       "      <td>0</td>\n",
       "      <td>0</td>\n",
       "      <td>4</td>\n",
       "      <td>67</td>\n",
       "      <td>22</td>\n",
       "      <td>0</td>\n",
       "    </tr>\n",
       "    <tr>\n",
       "      <th>1</th>\n",
       "      <td>1.0</td>\n",
       "      <td>0.0</td>\n",
       "      <td>0.0</td>\n",
       "      <td>0.0</td>\n",
       "      <td>0.0</td>\n",
       "      <td>0.0</td>\n",
       "      <td>0.0</td>\n",
       "      <td>0.0</td>\n",
       "      <td>0.0</td>\n",
       "      <td>0.0</td>\n",
       "      <td>...</td>\n",
       "      <td>1</td>\n",
       "      <td>1</td>\n",
       "      <td>1</td>\n",
       "      <td>0</td>\n",
       "      <td>0</td>\n",
       "      <td>1</td>\n",
       "      <td>3</td>\n",
       "      <td>89</td>\n",
       "      <td>18</td>\n",
       "      <td>0</td>\n",
       "    </tr>\n",
       "    <tr>\n",
       "      <th>2</th>\n",
       "      <td>1.0</td>\n",
       "      <td>0.0</td>\n",
       "      <td>0.0</td>\n",
       "      <td>0.0</td>\n",
       "      <td>0.0</td>\n",
       "      <td>1.0</td>\n",
       "      <td>0.0</td>\n",
       "      <td>0.0</td>\n",
       "      <td>0.0</td>\n",
       "      <td>0.0</td>\n",
       "      <td>...</td>\n",
       "      <td>1</td>\n",
       "      <td>1</td>\n",
       "      <td>0</td>\n",
       "      <td>1</td>\n",
       "      <td>1</td>\n",
       "      <td>1</td>\n",
       "      <td>4</td>\n",
       "      <td>67</td>\n",
       "      <td>7</td>\n",
       "      <td>1</td>\n",
       "    </tr>\n",
       "    <tr>\n",
       "      <th>3</th>\n",
       "      <td>1.0</td>\n",
       "      <td>0.0</td>\n",
       "      <td>0.0</td>\n",
       "      <td>0.0</td>\n",
       "      <td>0.0</td>\n",
       "      <td>0.0</td>\n",
       "      <td>0.0</td>\n",
       "      <td>0.0</td>\n",
       "      <td>0.0</td>\n",
       "      <td>0.0</td>\n",
       "      <td>...</td>\n",
       "      <td>1</td>\n",
       "      <td>1</td>\n",
       "      <td>0</td>\n",
       "      <td>1</td>\n",
       "      <td>0</td>\n",
       "      <td>1</td>\n",
       "      <td>3</td>\n",
       "      <td>89</td>\n",
       "      <td>7</td>\n",
       "      <td>0</td>\n",
       "    </tr>\n",
       "    <tr>\n",
       "      <th>4</th>\n",
       "      <td>1.0</td>\n",
       "      <td>0.0</td>\n",
       "      <td>0.0</td>\n",
       "      <td>0.0</td>\n",
       "      <td>0.0</td>\n",
       "      <td>0.0</td>\n",
       "      <td>0.0</td>\n",
       "      <td>0.0</td>\n",
       "      <td>0.0</td>\n",
       "      <td>0.0</td>\n",
       "      <td>...</td>\n",
       "      <td>1</td>\n",
       "      <td>0</td>\n",
       "      <td>0</td>\n",
       "      <td>1</td>\n",
       "      <td>1</td>\n",
       "      <td>0</td>\n",
       "      <td>3</td>\n",
       "      <td>40</td>\n",
       "      <td>7</td>\n",
       "      <td>0</td>\n",
       "    </tr>\n",
       "  </tbody>\n",
       "</table>\n",
       "<p>5 rows × 114 columns</p>\n",
       "</div>"
      ],
      "text/plain": [
       "  ohe__x0_Individual ohe__x0_With Colleagues ohe__x0_With Family  \\\n",
       "0                1.0                     0.0                 0.0   \n",
       "1                1.0                     0.0                 0.0   \n",
       "2                1.0                     0.0                 0.0   \n",
       "3                1.0                     0.0                 0.0   \n",
       "4                1.0                     0.0                 0.0   \n",
       "\n",
       "  ohe__x0_With Kids ohe__x1_Architecture & Engineering  \\\n",
       "0               0.0                                0.0   \n",
       "1               0.0                                0.0   \n",
       "2               0.0                                0.0   \n",
       "3               0.0                                0.0   \n",
       "4               0.0                                0.0   \n",
       "\n",
       "  ohe__x1_Arts Design Entertainment Sports & Media  \\\n",
       "0                                              0.0   \n",
       "1                                              0.0   \n",
       "2                                              1.0   \n",
       "3                                              0.0   \n",
       "4                                              0.0   \n",
       "\n",
       "  ohe__x1_Building & Grounds Cleaning & Maintenance  \\\n",
       "0                                               0.0   \n",
       "1                                               0.0   \n",
       "2                                               0.0   \n",
       "3                                               0.0   \n",
       "4                                               0.0   \n",
       "\n",
       "  ohe__x1_Business & Financial ohe__x1_Community & Social Services  \\\n",
       "0                          0.0                                 0.0   \n",
       "1                          0.0                                 0.0   \n",
       "2                          0.0                                 0.0   \n",
       "3                          0.0                                 0.0   \n",
       "4                          0.0                                 0.0   \n",
       "\n",
       "  ohe__x1_Computer & Mathematical  ... travelled_more_than_5mins_for_offer  \\\n",
       "0                             0.0  ...                                   1   \n",
       "1                             0.0  ...                                   1   \n",
       "2                             0.0  ...                                   1   \n",
       "3                             0.0  ...                                   1   \n",
       "4                             0.0  ...                                   1   \n",
       "\n",
       "  restuarant_same_direction_house Cooks regularly is foodie  \\\n",
       "0                               0               1         0   \n",
       "1                               1               1         0   \n",
       "2                               1               0         1   \n",
       "3                               1               0         1   \n",
       "4                               0               0         1   \n",
       "\n",
       "  restuarant_opposite_direction_house has Children  \\\n",
       "0                                   0            0   \n",
       "1                                   0            1   \n",
       "2                                   1            1   \n",
       "3                                   0            1   \n",
       "4                                   1            0   \n",
       "\n",
       "  visit restaurant with rating (avg) temperature Travel Time Prefer home food  \n",
       "0                                  4          67          22                0  \n",
       "1                                  3          89          18                0  \n",
       "2                                  4          67           7                1  \n",
       "3                                  3          89           7                0  \n",
       "4                                  3          40           7                0  \n",
       "\n",
       "[5 rows x 114 columns]"
      ]
     },
     "execution_count": 44,
     "metadata": {},
     "output_type": "execute_result"
    }
   ],
   "source": [
    "train_tf.head()"
   ]
  },
  {
   "cell_type": "markdown",
   "id": "47d8c164",
   "metadata": {
    "papermill": {
     "duration": 0.017334,
     "end_time": "2023-01-13T21:52:35.590445",
     "exception": false,
     "start_time": "2023-01-13T21:52:35.573111",
     "status": "completed"
    },
    "tags": []
   },
   "source": [
    "RandomForestClassifier"
   ]
  },
  {
   "cell_type": "code",
   "execution_count": 45,
   "id": "6ee57660",
   "metadata": {
    "execution": {
     "iopub.execute_input": "2023-01-13T21:52:35.628854Z",
     "iopub.status.busy": "2023-01-13T21:52:35.627604Z",
     "iopub.status.idle": "2023-01-13T21:56:21.807124Z",
     "shell.execute_reply": "2023-01-13T21:56:21.805821Z"
    },
    "papermill": {
     "duration": 226.202043,
     "end_time": "2023-01-13T21:56:21.810160",
     "exception": false,
     "start_time": "2023-01-13T21:52:35.608117",
     "status": "completed"
    },
    "tags": []
   },
   "outputs": [
    {
     "name": "stdout",
     "output_type": "stream",
     "text": [
      "Fitting 5 folds for each of 27 candidates, totalling 135 fits\n",
      "[CV 1/5] END max_depth=1, n_estimators=100;, score=(train=0.722, test=0.722) total time=   0.5s\n",
      "[CV 2/5] END max_depth=1, n_estimators=100;, score=(train=0.722, test=0.722) total time=   0.5s\n",
      "[CV 3/5] END max_depth=1, n_estimators=100;, score=(train=0.722, test=0.722) total time=   0.5s\n",
      "[CV 4/5] END max_depth=1, n_estimators=100;, score=(train=0.722, test=0.722) total time=   0.5s\n",
      "[CV 5/5] END max_depth=1, n_estimators=100;, score=(train=0.722, test=0.722) total time=   0.5s\n",
      "[CV 1/5] END max_depth=1, n_estimators=150;, score=(train=0.722, test=0.722) total time=   0.6s\n",
      "[CV 2/5] END max_depth=1, n_estimators=150;, score=(train=0.722, test=0.722) total time=   0.6s\n",
      "[CV 3/5] END max_depth=1, n_estimators=150;, score=(train=0.722, test=0.722) total time=   0.6s\n",
      "[CV 4/5] END max_depth=1, n_estimators=150;, score=(train=0.722, test=0.722) total time=   0.6s\n",
      "[CV 5/5] END max_depth=1, n_estimators=150;, score=(train=0.722, test=0.722) total time=   0.6s\n",
      "[CV 1/5] END max_depth=1, n_estimators=200;, score=(train=0.722, test=0.722) total time=   0.8s\n",
      "[CV 2/5] END max_depth=1, n_estimators=200;, score=(train=0.722, test=0.722) total time=   0.8s\n",
      "[CV 3/5] END max_depth=1, n_estimators=200;, score=(train=0.722, test=0.722) total time=   0.8s\n",
      "[CV 4/5] END max_depth=1, n_estimators=200;, score=(train=0.722, test=0.722) total time=   0.8s\n",
      "[CV 5/5] END max_depth=1, n_estimators=200;, score=(train=0.722, test=0.722) total time=   0.8s\n",
      "[CV 1/5] END max_depth=2, n_estimators=100;, score=(train=0.722, test=0.722) total time=   0.6s\n",
      "[CV 2/5] END max_depth=2, n_estimators=100;, score=(train=0.722, test=0.722) total time=   0.6s\n",
      "[CV 3/5] END max_depth=2, n_estimators=100;, score=(train=0.722, test=0.722) total time=   0.6s\n",
      "[CV 4/5] END max_depth=2, n_estimators=100;, score=(train=0.722, test=0.722) total time=   0.6s\n",
      "[CV 5/5] END max_depth=2, n_estimators=100;, score=(train=0.722, test=0.722) total time=   0.6s\n",
      "[CV 1/5] END max_depth=2, n_estimators=150;, score=(train=0.722, test=0.722) total time=   0.8s\n",
      "[CV 2/5] END max_depth=2, n_estimators=150;, score=(train=0.722, test=0.722) total time=   0.8s\n",
      "[CV 3/5] END max_depth=2, n_estimators=150;, score=(train=0.722, test=0.722) total time=   0.8s\n",
      "[CV 4/5] END max_depth=2, n_estimators=150;, score=(train=0.722, test=0.722) total time=   0.8s\n",
      "[CV 5/5] END max_depth=2, n_estimators=150;, score=(train=0.722, test=0.722) total time=   0.8s\n",
      "[CV 1/5] END max_depth=2, n_estimators=200;, score=(train=0.722, test=0.722) total time=   1.0s\n",
      "[CV 2/5] END max_depth=2, n_estimators=200;, score=(train=0.722, test=0.722) total time=   1.0s\n",
      "[CV 3/5] END max_depth=2, n_estimators=200;, score=(train=0.722, test=0.722) total time=   1.0s\n",
      "[CV 4/5] END max_depth=2, n_estimators=200;, score=(train=0.722, test=0.722) total time=   1.1s\n",
      "[CV 5/5] END max_depth=2, n_estimators=200;, score=(train=0.722, test=0.722) total time=   1.0s\n",
      "[CV 1/5] END max_depth=3, n_estimators=100;, score=(train=0.724, test=0.724) total time=   0.7s\n",
      "[CV 2/5] END max_depth=3, n_estimators=100;, score=(train=0.723, test=0.724) total time=   0.7s\n",
      "[CV 3/5] END max_depth=3, n_estimators=100;, score=(train=0.723, test=0.724) total time=   0.7s\n",
      "[CV 4/5] END max_depth=3, n_estimators=100;, score=(train=0.724, test=0.723) total time=   0.7s\n",
      "[CV 5/5] END max_depth=3, n_estimators=100;, score=(train=0.724, test=0.723) total time=   0.7s\n",
      "[CV 1/5] END max_depth=3, n_estimators=150;, score=(train=0.724, test=0.724) total time=   1.0s\n",
      "[CV 2/5] END max_depth=3, n_estimators=150;, score=(train=0.724, test=0.723) total time=   1.0s\n",
      "[CV 3/5] END max_depth=3, n_estimators=150;, score=(train=0.723, test=0.724) total time=   1.0s\n",
      "[CV 4/5] END max_depth=3, n_estimators=150;, score=(train=0.723, test=0.723) total time=   1.0s\n",
      "[CV 5/5] END max_depth=3, n_estimators=150;, score=(train=0.724, test=0.723) total time=   1.0s\n",
      "[CV 1/5] END max_depth=3, n_estimators=200;, score=(train=0.724, test=0.724) total time=   1.3s\n",
      "[CV 2/5] END max_depth=3, n_estimators=200;, score=(train=0.724, test=0.724) total time=   1.3s\n",
      "[CV 3/5] END max_depth=3, n_estimators=200;, score=(train=0.723, test=0.725) total time=   1.3s\n",
      "[CV 4/5] END max_depth=3, n_estimators=200;, score=(train=0.724, test=0.723) total time=   1.3s\n",
      "[CV 5/5] END max_depth=3, n_estimators=200;, score=(train=0.724, test=0.723) total time=   1.3s\n",
      "[CV 1/5] END max_depth=4, n_estimators=100;, score=(train=0.729, test=0.729) total time=   0.8s\n",
      "[CV 2/5] END max_depth=4, n_estimators=100;, score=(train=0.729, test=0.724) total time=   0.8s\n",
      "[CV 3/5] END max_depth=4, n_estimators=100;, score=(train=0.728, test=0.730) total time=   0.8s\n",
      "[CV 4/5] END max_depth=4, n_estimators=100;, score=(train=0.729, test=0.723) total time=   0.8s\n",
      "[CV 5/5] END max_depth=4, n_estimators=100;, score=(train=0.730, test=0.726) total time=   0.8s\n",
      "[CV 1/5] END max_depth=4, n_estimators=150;, score=(train=0.729, test=0.726) total time=   1.2s\n",
      "[CV 2/5] END max_depth=4, n_estimators=150;, score=(train=0.729, test=0.722) total time=   1.2s\n",
      "[CV 3/5] END max_depth=4, n_estimators=150;, score=(train=0.728, test=0.728) total time=   1.2s\n",
      "[CV 4/5] END max_depth=4, n_estimators=150;, score=(train=0.728, test=0.724) total time=   1.2s\n",
      "[CV 5/5] END max_depth=4, n_estimators=150;, score=(train=0.730, test=0.724) total time=   1.3s\n",
      "[CV 1/5] END max_depth=4, n_estimators=200;, score=(train=0.729, test=0.728) total time=   1.6s\n",
      "[CV 2/5] END max_depth=4, n_estimators=200;, score=(train=0.729, test=0.723) total time=   1.5s\n",
      "[CV 3/5] END max_depth=4, n_estimators=200;, score=(train=0.728, test=0.727) total time=   1.5s\n",
      "[CV 4/5] END max_depth=4, n_estimators=200;, score=(train=0.729, test=0.725) total time=   1.5s\n",
      "[CV 5/5] END max_depth=4, n_estimators=200;, score=(train=0.729, test=0.726) total time=   1.5s\n",
      "[CV 1/5] END max_depth=5, n_estimators=100;, score=(train=0.737, test=0.725) total time=   1.0s\n",
      "[CV 2/5] END max_depth=5, n_estimators=100;, score=(train=0.737, test=0.726) total time=   1.0s\n",
      "[CV 3/5] END max_depth=5, n_estimators=100;, score=(train=0.735, test=0.729) total time=   0.9s\n",
      "[CV 4/5] END max_depth=5, n_estimators=100;, score=(train=0.738, test=0.729) total time=   1.0s\n",
      "[CV 5/5] END max_depth=5, n_estimators=100;, score=(train=0.737, test=0.726) total time=   1.0s\n",
      "[CV 1/5] END max_depth=5, n_estimators=150;, score=(train=0.738, test=0.726) total time=   1.4s\n",
      "[CV 2/5] END max_depth=5, n_estimators=150;, score=(train=0.738, test=0.726) total time=   1.4s\n",
      "[CV 3/5] END max_depth=5, n_estimators=150;, score=(train=0.736, test=0.729) total time=   1.4s\n",
      "[CV 4/5] END max_depth=5, n_estimators=150;, score=(train=0.737, test=0.729) total time=   1.4s\n",
      "[CV 5/5] END max_depth=5, n_estimators=150;, score=(train=0.738, test=0.726) total time=   1.4s\n",
      "[CV 1/5] END max_depth=5, n_estimators=200;, score=(train=0.738, test=0.726) total time=   1.8s\n",
      "[CV 2/5] END max_depth=5, n_estimators=200;, score=(train=0.738, test=0.728) total time=   1.8s\n",
      "[CV 3/5] END max_depth=5, n_estimators=200;, score=(train=0.736, test=0.728) total time=   1.8s\n",
      "[CV 4/5] END max_depth=5, n_estimators=200;, score=(train=0.737, test=0.730) total time=   1.8s\n",
      "[CV 5/5] END max_depth=5, n_estimators=200;, score=(train=0.738, test=0.728) total time=   1.8s\n",
      "[CV 1/5] END max_depth=6, n_estimators=100;, score=(train=0.747, test=0.722) total time=   1.1s\n",
      "[CV 2/5] END max_depth=6, n_estimators=100;, score=(train=0.750, test=0.727) total time=   1.1s\n",
      "[CV 3/5] END max_depth=6, n_estimators=100;, score=(train=0.748, test=0.729) total time=   1.1s\n",
      "[CV 4/5] END max_depth=6, n_estimators=100;, score=(train=0.748, test=0.734) total time=   1.1s\n",
      "[CV 5/5] END max_depth=6, n_estimators=100;, score=(train=0.746, test=0.728) total time=   1.1s\n",
      "[CV 1/5] END max_depth=6, n_estimators=150;, score=(train=0.747, test=0.725) total time=   1.6s\n",
      "[CV 2/5] END max_depth=6, n_estimators=150;, score=(train=0.749, test=0.728) total time=   1.6s\n",
      "[CV 3/5] END max_depth=6, n_estimators=150;, score=(train=0.747, test=0.732) total time=   1.6s\n",
      "[CV 4/5] END max_depth=6, n_estimators=150;, score=(train=0.747, test=0.736) total time=   1.6s\n",
      "[CV 5/5] END max_depth=6, n_estimators=150;, score=(train=0.746, test=0.725) total time=   1.5s\n",
      "[CV 1/5] END max_depth=6, n_estimators=200;, score=(train=0.748, test=0.725) total time=   2.0s\n",
      "[CV 2/5] END max_depth=6, n_estimators=200;, score=(train=0.750, test=0.727) total time=   2.0s\n",
      "[CV 3/5] END max_depth=6, n_estimators=200;, score=(train=0.747, test=0.732) total time=   2.0s\n",
      "[CV 4/5] END max_depth=6, n_estimators=200;, score=(train=0.748, test=0.734) total time=   2.0s\n",
      "[CV 5/5] END max_depth=6, n_estimators=200;, score=(train=0.747, test=0.726) total time=   2.0s\n",
      "[CV 1/5] END max_depth=7, n_estimators=100;, score=(train=0.764, test=0.723) total time=   1.2s\n",
      "[CV 2/5] END max_depth=7, n_estimators=100;, score=(train=0.765, test=0.728) total time=   1.2s\n",
      "[CV 3/5] END max_depth=7, n_estimators=100;, score=(train=0.763, test=0.731) total time=   1.2s\n",
      "[CV 4/5] END max_depth=7, n_estimators=100;, score=(train=0.764, test=0.735) total time=   1.2s\n",
      "[CV 5/5] END max_depth=7, n_estimators=100;, score=(train=0.762, test=0.727) total time=   1.2s\n",
      "[CV 1/5] END max_depth=7, n_estimators=150;, score=(train=0.763, test=0.725) total time=   1.7s\n",
      "[CV 2/5] END max_depth=7, n_estimators=150;, score=(train=0.765, test=0.730) total time=   1.7s\n",
      "[CV 3/5] END max_depth=7, n_estimators=150;, score=(train=0.763, test=0.731) total time=   1.7s\n",
      "[CV 4/5] END max_depth=7, n_estimators=150;, score=(train=0.763, test=0.735) total time=   1.7s\n",
      "[CV 5/5] END max_depth=7, n_estimators=150;, score=(train=0.763, test=0.729) total time=   1.7s\n",
      "[CV 1/5] END max_depth=7, n_estimators=200;, score=(train=0.762, test=0.725) total time=   2.3s\n",
      "[CV 2/5] END max_depth=7, n_estimators=200;, score=(train=0.763, test=0.732) total time=   2.3s\n",
      "[CV 3/5] END max_depth=7, n_estimators=200;, score=(train=0.763, test=0.732) total time=   2.3s\n",
      "[CV 4/5] END max_depth=7, n_estimators=200;, score=(train=0.763, test=0.734) total time=   2.3s\n",
      "[CV 5/5] END max_depth=7, n_estimators=200;, score=(train=0.763, test=0.733) total time=   2.3s\n",
      "[CV 1/5] END max_depth=8, n_estimators=100;, score=(train=0.781, test=0.719) total time=   1.4s\n",
      "[CV 2/5] END max_depth=8, n_estimators=100;, score=(train=0.785, test=0.732) total time=   1.3s\n",
      "[CV 3/5] END max_depth=8, n_estimators=100;, score=(train=0.784, test=0.735) total time=   1.4s\n",
      "[CV 4/5] END max_depth=8, n_estimators=100;, score=(train=0.783, test=0.729) total time=   1.4s\n",
      "[CV 5/5] END max_depth=8, n_estimators=100;, score=(train=0.781, test=0.729) total time=   1.3s\n",
      "[CV 1/5] END max_depth=8, n_estimators=150;, score=(train=0.780, test=0.723) total time=   2.0s\n",
      "[CV 2/5] END max_depth=8, n_estimators=150;, score=(train=0.783, test=0.732) total time=   2.0s\n",
      "[CV 3/5] END max_depth=8, n_estimators=150;, score=(train=0.785, test=0.733) total time=   1.9s\n",
      "[CV 4/5] END max_depth=8, n_estimators=150;, score=(train=0.784, test=0.732) total time=   1.9s\n",
      "[CV 5/5] END max_depth=8, n_estimators=150;, score=(train=0.781, test=0.729) total time=   1.9s\n",
      "[CV 1/5] END max_depth=8, n_estimators=200;, score=(train=0.782, test=0.724) total time=   2.5s\n",
      "[CV 2/5] END max_depth=8, n_estimators=200;, score=(train=0.783, test=0.730) total time=   2.5s\n",
      "[CV 3/5] END max_depth=8, n_estimators=200;, score=(train=0.786, test=0.735) total time=   2.5s\n",
      "[CV 4/5] END max_depth=8, n_estimators=200;, score=(train=0.783, test=0.730) total time=   2.5s\n",
      "[CV 5/5] END max_depth=8, n_estimators=200;, score=(train=0.780, test=0.728) total time=   2.6s\n",
      "[CV 1/5] END max_depth=9, n_estimators=100;, score=(train=0.808, test=0.718) total time=   1.5s\n",
      "[CV 2/5] END max_depth=9, n_estimators=100;, score=(train=0.807, test=0.731) total time=   1.5s\n",
      "[CV 3/5] END max_depth=9, n_estimators=100;, score=(train=0.810, test=0.732) total time=   1.5s\n",
      "[CV 4/5] END max_depth=9, n_estimators=100;, score=(train=0.810, test=0.733) total time=   1.5s\n",
      "[CV 5/5] END max_depth=9, n_estimators=100;, score=(train=0.807, test=0.729) total time=   1.5s\n",
      "[CV 1/5] END max_depth=9, n_estimators=150;, score=(train=0.807, test=0.724) total time=   2.1s\n",
      "[CV 2/5] END max_depth=9, n_estimators=150;, score=(train=0.807, test=0.733) total time=   2.1s\n",
      "[CV 3/5] END max_depth=9, n_estimators=150;, score=(train=0.812, test=0.733) total time=   2.2s\n",
      "[CV 4/5] END max_depth=9, n_estimators=150;, score=(train=0.812, test=0.729) total time=   2.2s\n",
      "[CV 5/5] END max_depth=9, n_estimators=150;, score=(train=0.806, test=0.731) total time=   2.2s\n",
      "[CV 1/5] END max_depth=9, n_estimators=200;, score=(train=0.808, test=0.725) total time=   2.8s\n",
      "[CV 2/5] END max_depth=9, n_estimators=200;, score=(train=0.807, test=0.731) total time=   2.8s\n",
      "[CV 3/5] END max_depth=9, n_estimators=200;, score=(train=0.813, test=0.735) total time=   2.9s\n",
      "[CV 4/5] END max_depth=9, n_estimators=200;, score=(train=0.812, test=0.734) total time=   2.8s\n",
      "[CV 5/5] END max_depth=9, n_estimators=200;, score=(train=0.807, test=0.728) total time=   2.8s\n"
     ]
    },
    {
     "data": {
      "text/plain": [
       "GridSearchCV(cv=5, error_score='raise',\n",
       "             estimator=RandomForestClassifier(bootstrap=False,\n",
       "                                              criterion='entropy',\n",
       "                                              random_state=42,\n",
       "                                              warm_start=True),\n",
       "             param_grid={'max_depth': array([1, 2, 3, 4, 5, 6, 7, 8, 9]),\n",
       "                         'n_estimators': [100, 150, 200]},\n",
       "             return_train_score=True, scoring='f1', verbose=3)"
      ]
     },
     "execution_count": 45,
     "metadata": {},
     "output_type": "execute_result"
    }
   ],
   "source": [
    "from sklearn.model_selection import GridSearchCV\n",
    "from sklearn.ensemble import RandomForestClassifier,AdaBoostClassifier\n",
    "param_grid={\n",
    "    'n_estimators':[100,150,200],\n",
    "    'max_depth':np.arange(1,10),\n",
    "#     'learning_rate':np.linspace(0.001,0.005,5)\n",
    "}\n",
    "clf=GridSearchCV(RandomForestClassifier(warm_start=True,criterion='entropy',bootstrap=False,random_state=42),param_grid,scoring='f1',refit=True,cv=5,verbose=3,return_train_score=True,error_score='raise')\n",
    "clf.fit(train_tf,target)"
   ]
  },
  {
   "cell_type": "code",
   "execution_count": 46,
   "id": "1cdb1ed3",
   "metadata": {
    "execution": {
     "iopub.execute_input": "2023-01-13T21:56:21.867363Z",
     "iopub.status.busy": "2023-01-13T21:56:21.866866Z",
     "iopub.status.idle": "2023-01-13T21:56:21.874357Z",
     "shell.execute_reply": "2023-01-13T21:56:21.873127Z"
    },
    "papermill": {
     "duration": 0.038518,
     "end_time": "2023-01-13T21:56:21.877009",
     "exception": false,
     "start_time": "2023-01-13T21:56:21.838491",
     "status": "completed"
    },
    "tags": []
   },
   "outputs": [
    {
     "data": {
      "text/plain": [
       "0.7312751939794383"
      ]
     },
     "execution_count": 46,
     "metadata": {},
     "output_type": "execute_result"
    }
   ],
   "source": [
    "clf.best_score_\n",
    "# clf.best_params_"
   ]
  },
  {
   "cell_type": "code",
   "execution_count": 47,
   "id": "4f69eb24",
   "metadata": {
    "execution": {
     "iopub.execute_input": "2023-01-13T21:56:21.931474Z",
     "iopub.status.busy": "2023-01-13T21:56:21.930995Z",
     "iopub.status.idle": "2023-01-13T21:56:22.085224Z",
     "shell.execute_reply": "2023-01-13T21:56:22.083781Z"
    },
    "papermill": {
     "duration": 0.185782,
     "end_time": "2023-01-13T21:56:22.088857",
     "exception": false,
     "start_time": "2023-01-13T21:56:21.903075",
     "status": "completed"
    },
    "tags": []
   },
   "outputs": [],
   "source": [
    "ypred=clf.predict(test_tf)\n",
    "# ypred=pd.DataFrame(ypred)\n",
    "# ypred=ypred.replace(0,'No')\n",
    "# ypred=ypred.replace(1,'Yes')\n",
    "# ypred.head()"
   ]
  },
  {
   "cell_type": "code",
   "execution_count": 48,
   "id": "5acf79ee",
   "metadata": {
    "execution": {
     "iopub.execute_input": "2023-01-13T21:56:22.143257Z",
     "iopub.status.busy": "2023-01-13T21:56:22.142441Z",
     "iopub.status.idle": "2023-01-13T21:56:22.148144Z",
     "shell.execute_reply": "2023-01-13T21:56:22.146820Z"
    },
    "papermill": {
     "duration": 0.035689,
     "end_time": "2023-01-13T21:56:22.150776",
     "exception": false,
     "start_time": "2023-01-13T21:56:22.115087",
     "status": "completed"
    },
    "tags": []
   },
   "outputs": [],
   "source": [
    "from sklearn.metrics import f1_score"
   ]
  },
  {
   "cell_type": "code",
   "execution_count": 49,
   "id": "fc3431d7",
   "metadata": {
    "execution": {
     "iopub.execute_input": "2023-01-13T21:56:22.206735Z",
     "iopub.status.busy": "2023-01-13T21:56:22.206308Z",
     "iopub.status.idle": "2023-01-13T21:56:22.228646Z",
     "shell.execute_reply": "2023-01-13T21:56:22.227464Z"
    },
    "papermill": {
     "duration": 0.054004,
     "end_time": "2023-01-13T21:56:22.231339",
     "exception": false,
     "start_time": "2023-01-13T21:56:22.177335",
     "status": "completed"
    },
    "tags": []
   },
   "outputs": [],
   "source": [
    "# Select only required coulums\n",
    "submission=pd.DataFrame(columns=['id','Offer Accepted'])\n",
    "\n",
    "submission['id']=[i for i in range(len(ypred))]\n",
    "\n",
    "# Mark all as Yes , just for submission\n",
    "submission['Offer Accepted']=ypred\n",
    "\n",
    "# Export it as an csv\n",
    "submission.to_csv('submission.csv',index=False)"
   ]
  },
  {
   "cell_type": "code",
   "execution_count": 50,
   "id": "d7014655",
   "metadata": {
    "execution": {
     "iopub.execute_input": "2023-01-13T21:56:22.287693Z",
     "iopub.status.busy": "2023-01-13T21:56:22.287161Z",
     "iopub.status.idle": "2023-01-13T21:56:22.302761Z",
     "shell.execute_reply": "2023-01-13T21:56:22.301033Z"
    },
    "papermill": {
     "duration": 0.047429,
     "end_time": "2023-01-13T21:56:22.305421",
     "exception": false,
     "start_time": "2023-01-13T21:56:22.257992",
     "status": "completed"
    },
    "tags": []
   },
   "outputs": [
    {
     "data": {
      "text/html": [
       "<div>\n",
       "<style scoped>\n",
       "    .dataframe tbody tr th:only-of-type {\n",
       "        vertical-align: middle;\n",
       "    }\n",
       "\n",
       "    .dataframe tbody tr th {\n",
       "        vertical-align: top;\n",
       "    }\n",
       "\n",
       "    .dataframe thead th {\n",
       "        text-align: right;\n",
       "    }\n",
       "</style>\n",
       "<table border=\"1\" class=\"dataframe\">\n",
       "  <thead>\n",
       "    <tr style=\"text-align: right;\">\n",
       "      <th></th>\n",
       "      <th>id</th>\n",
       "      <th>Offer Accepted</th>\n",
       "    </tr>\n",
       "  </thead>\n",
       "  <tbody>\n",
       "    <tr>\n",
       "      <th>0</th>\n",
       "      <td>0</td>\n",
       "      <td>1</td>\n",
       "    </tr>\n",
       "    <tr>\n",
       "      <th>1</th>\n",
       "      <td>1</td>\n",
       "      <td>1</td>\n",
       "    </tr>\n",
       "    <tr>\n",
       "      <th>2</th>\n",
       "      <td>2</td>\n",
       "      <td>0</td>\n",
       "    </tr>\n",
       "    <tr>\n",
       "      <th>3</th>\n",
       "      <td>3</td>\n",
       "      <td>0</td>\n",
       "    </tr>\n",
       "    <tr>\n",
       "      <th>4</th>\n",
       "      <td>4</td>\n",
       "      <td>1</td>\n",
       "    </tr>\n",
       "    <tr>\n",
       "      <th>...</th>\n",
       "      <td>...</td>\n",
       "      <td>...</td>\n",
       "    </tr>\n",
       "    <tr>\n",
       "      <th>5300</th>\n",
       "      <td>5300</td>\n",
       "      <td>1</td>\n",
       "    </tr>\n",
       "    <tr>\n",
       "      <th>5301</th>\n",
       "      <td>5301</td>\n",
       "      <td>1</td>\n",
       "    </tr>\n",
       "    <tr>\n",
       "      <th>5302</th>\n",
       "      <td>5302</td>\n",
       "      <td>1</td>\n",
       "    </tr>\n",
       "    <tr>\n",
       "      <th>5303</th>\n",
       "      <td>5303</td>\n",
       "      <td>1</td>\n",
       "    </tr>\n",
       "    <tr>\n",
       "      <th>5304</th>\n",
       "      <td>5304</td>\n",
       "      <td>1</td>\n",
       "    </tr>\n",
       "  </tbody>\n",
       "</table>\n",
       "<p>5305 rows × 2 columns</p>\n",
       "</div>"
      ],
      "text/plain": [
       "        id  Offer Accepted\n",
       "0        0               1\n",
       "1        1               1\n",
       "2        2               0\n",
       "3        3               0\n",
       "4        4               1\n",
       "...    ...             ...\n",
       "5300  5300               1\n",
       "5301  5301               1\n",
       "5302  5302               1\n",
       "5303  5303               1\n",
       "5304  5304               1\n",
       "\n",
       "[5305 rows x 2 columns]"
      ]
     },
     "execution_count": 50,
     "metadata": {},
     "output_type": "execute_result"
    }
   ],
   "source": [
    "submission"
   ]
  },
  {
   "cell_type": "code",
   "execution_count": null,
   "id": "e9563a38",
   "metadata": {
    "papermill": {
     "duration": 0.025945,
     "end_time": "2023-01-13T21:56:22.357482",
     "exception": false,
     "start_time": "2023-01-13T21:56:22.331537",
     "status": "completed"
    },
    "tags": []
   },
   "outputs": [],
   "source": []
  }
 ],
 "metadata": {
  "kernelspec": {
   "display_name": "Python 3",
   "language": "python",
   "name": "python3"
  },
  "language_info": {
   "codemirror_mode": {
    "name": "ipython",
    "version": 3
   },
   "file_extension": ".py",
   "mimetype": "text/x-python",
   "name": "python",
   "nbconvert_exporter": "python",
   "pygments_lexer": "ipython3",
   "version": "3.7.12"
  },
  "papermill": {
   "default_parameters": {},
   "duration": 241.699753,
   "end_time": "2023-01-13T21:56:23.409689",
   "environment_variables": {},
   "exception": null,
   "input_path": "__notebook__.ipynb",
   "output_path": "__notebook__.ipynb",
   "parameters": {},
   "start_time": "2023-01-13T21:52:21.709936",
   "version": "2.3.4"
  }
 },
 "nbformat": 4,
 "nbformat_minor": 5
}
